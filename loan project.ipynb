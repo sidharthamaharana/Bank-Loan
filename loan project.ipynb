{
 "cells": [
  {
   "cell_type": "code",
   "execution_count": 5,
   "id": "b708cff7-86ef-43cc-b105-90f0d75f5ea2",
   "metadata": {},
   "outputs": [],
   "source": [
    "import pandas as pd\n",
    "import numpy as np\n",
    "import matplotlib.pyplot as plt\n",
    "import seaborn as sns\n",
    "import datetime\n",
    "\n",
    "import warnings\n",
    "warnings.simplefilter(\"ignore\")\n"
   ]
  },
  {
   "cell_type": "code",
   "execution_count": null,
   "id": "180661d0-8385-4f5a-ac3f-9094f0924715",
   "metadata": {},
   "outputs": [],
   "source": []
  },
  {
   "cell_type": "code",
   "execution_count": 6,
   "id": "c7765f86-5dc8-40e7-a856-1fdcc88a2061",
   "metadata": {},
   "outputs": [],
   "source": [
    "loan= pd.read_csv(r\"C:\\Naresh IT\\Data Analysis Project file\\Bank Loan\\financial_loan.csv\")\n",
    "pd.set_option(\"display.max_columns\",None)"
   ]
  },
  {
   "cell_type": "code",
   "execution_count": 7,
   "id": "e077477d-d399-4524-abba-22546bf6ffa1",
   "metadata": {},
   "outputs": [
    {
     "data": {
      "text/html": [
       "<div>\n",
       "<style scoped>\n",
       "    .dataframe tbody tr th:only-of-type {\n",
       "        vertical-align: middle;\n",
       "    }\n",
       "\n",
       "    .dataframe tbody tr th {\n",
       "        vertical-align: top;\n",
       "    }\n",
       "\n",
       "    .dataframe thead th {\n",
       "        text-align: right;\n",
       "    }\n",
       "</style>\n",
       "<table border=\"1\" class=\"dataframe\">\n",
       "  <thead>\n",
       "    <tr style=\"text-align: right;\">\n",
       "      <th></th>\n",
       "      <th>id</th>\n",
       "      <th>address_state</th>\n",
       "      <th>application_type</th>\n",
       "      <th>emp_length</th>\n",
       "      <th>emp_title</th>\n",
       "      <th>grade</th>\n",
       "      <th>home_ownership</th>\n",
       "      <th>issue_date</th>\n",
       "      <th>last_credit_pull_date</th>\n",
       "      <th>last_payment_date</th>\n",
       "      <th>loan_status</th>\n",
       "      <th>next_payment_date</th>\n",
       "      <th>member_id</th>\n",
       "      <th>purpose</th>\n",
       "      <th>sub_grade</th>\n",
       "      <th>term</th>\n",
       "      <th>verification_status</th>\n",
       "      <th>annual_income</th>\n",
       "      <th>dti</th>\n",
       "      <th>installment</th>\n",
       "      <th>int_rate</th>\n",
       "      <th>loan_amount</th>\n",
       "      <th>total_acc</th>\n",
       "      <th>total_payment</th>\n",
       "    </tr>\n",
       "  </thead>\n",
       "  <tbody>\n",
       "    <tr>\n",
       "      <th>0</th>\n",
       "      <td>1077430</td>\n",
       "      <td>GA</td>\n",
       "      <td>INDIVIDUAL</td>\n",
       "      <td>&lt; 1 year</td>\n",
       "      <td>Ryder</td>\n",
       "      <td>C</td>\n",
       "      <td>RENT</td>\n",
       "      <td>11-02-2021</td>\n",
       "      <td>13-09-2021</td>\n",
       "      <td>13-04-2021</td>\n",
       "      <td>Charged Off</td>\n",
       "      <td>13-05-2021</td>\n",
       "      <td>1314167</td>\n",
       "      <td>car</td>\n",
       "      <td>C4</td>\n",
       "      <td>60 months</td>\n",
       "      <td>Source Verified</td>\n",
       "      <td>30000.0</td>\n",
       "      <td>0.0100</td>\n",
       "      <td>59.83</td>\n",
       "      <td>0.1527</td>\n",
       "      <td>2500</td>\n",
       "      <td>4</td>\n",
       "      <td>1009</td>\n",
       "    </tr>\n",
       "    <tr>\n",
       "      <th>1</th>\n",
       "      <td>1072053</td>\n",
       "      <td>CA</td>\n",
       "      <td>INDIVIDUAL</td>\n",
       "      <td>9 years</td>\n",
       "      <td>MKC Accounting</td>\n",
       "      <td>E</td>\n",
       "      <td>RENT</td>\n",
       "      <td>01-01-2021</td>\n",
       "      <td>14-12-2021</td>\n",
       "      <td>15-01-2021</td>\n",
       "      <td>Fully Paid</td>\n",
       "      <td>15-02-2021</td>\n",
       "      <td>1288686</td>\n",
       "      <td>car</td>\n",
       "      <td>E1</td>\n",
       "      <td>36 months</td>\n",
       "      <td>Source Verified</td>\n",
       "      <td>48000.0</td>\n",
       "      <td>0.0535</td>\n",
       "      <td>109.43</td>\n",
       "      <td>0.1864</td>\n",
       "      <td>3000</td>\n",
       "      <td>4</td>\n",
       "      <td>3939</td>\n",
       "    </tr>\n",
       "    <tr>\n",
       "      <th>2</th>\n",
       "      <td>1069243</td>\n",
       "      <td>CA</td>\n",
       "      <td>INDIVIDUAL</td>\n",
       "      <td>4 years</td>\n",
       "      <td>Chemat Technology Inc</td>\n",
       "      <td>C</td>\n",
       "      <td>RENT</td>\n",
       "      <td>05-01-2021</td>\n",
       "      <td>12-12-2021</td>\n",
       "      <td>09-01-2021</td>\n",
       "      <td>Charged Off</td>\n",
       "      <td>09-02-2021</td>\n",
       "      <td>1304116</td>\n",
       "      <td>car</td>\n",
       "      <td>C5</td>\n",
       "      <td>36 months</td>\n",
       "      <td>Not Verified</td>\n",
       "      <td>50000.0</td>\n",
       "      <td>0.2088</td>\n",
       "      <td>421.65</td>\n",
       "      <td>0.1596</td>\n",
       "      <td>12000</td>\n",
       "      <td>11</td>\n",
       "      <td>3522</td>\n",
       "    </tr>\n",
       "    <tr>\n",
       "      <th>3</th>\n",
       "      <td>1041756</td>\n",
       "      <td>TX</td>\n",
       "      <td>INDIVIDUAL</td>\n",
       "      <td>&lt; 1 year</td>\n",
       "      <td>barnes distribution</td>\n",
       "      <td>B</td>\n",
       "      <td>MORTGAGE</td>\n",
       "      <td>25-02-2021</td>\n",
       "      <td>12-12-2021</td>\n",
       "      <td>12-03-2021</td>\n",
       "      <td>Fully Paid</td>\n",
       "      <td>12-04-2021</td>\n",
       "      <td>1272024</td>\n",
       "      <td>car</td>\n",
       "      <td>B2</td>\n",
       "      <td>60 months</td>\n",
       "      <td>Source Verified</td>\n",
       "      <td>42000.0</td>\n",
       "      <td>0.0540</td>\n",
       "      <td>97.06</td>\n",
       "      <td>0.1065</td>\n",
       "      <td>4500</td>\n",
       "      <td>9</td>\n",
       "      <td>4911</td>\n",
       "    </tr>\n",
       "    <tr>\n",
       "      <th>4</th>\n",
       "      <td>1068350</td>\n",
       "      <td>IL</td>\n",
       "      <td>INDIVIDUAL</td>\n",
       "      <td>10+ years</td>\n",
       "      <td>ho</td>\n",
       "      <td>A</td>\n",
       "      <td>MORTGAGE</td>\n",
       "      <td>01-01-2021</td>\n",
       "      <td>14-12-2021</td>\n",
       "      <td>15-01-2021</td>\n",
       "      <td>Fully Paid</td>\n",
       "      <td>15-02-2021</td>\n",
       "      <td>1302971</td>\n",
       "      <td>car</td>\n",
       "      <td>A1</td>\n",
       "      <td>36 months</td>\n",
       "      <td>Verified</td>\n",
       "      <td>83000.0</td>\n",
       "      <td>0.0231</td>\n",
       "      <td>106.53</td>\n",
       "      <td>0.0603</td>\n",
       "      <td>3500</td>\n",
       "      <td>28</td>\n",
       "      <td>3835</td>\n",
       "    </tr>\n",
       "    <tr>\n",
       "      <th>...</th>\n",
       "      <td>...</td>\n",
       "      <td>...</td>\n",
       "      <td>...</td>\n",
       "      <td>...</td>\n",
       "      <td>...</td>\n",
       "      <td>...</td>\n",
       "      <td>...</td>\n",
       "      <td>...</td>\n",
       "      <td>...</td>\n",
       "      <td>...</td>\n",
       "      <td>...</td>\n",
       "      <td>...</td>\n",
       "      <td>...</td>\n",
       "      <td>...</td>\n",
       "      <td>...</td>\n",
       "      <td>...</td>\n",
       "      <td>...</td>\n",
       "      <td>...</td>\n",
       "      <td>...</td>\n",
       "      <td>...</td>\n",
       "      <td>...</td>\n",
       "      <td>...</td>\n",
       "      <td>...</td>\n",
       "      <td>...</td>\n",
       "    </tr>\n",
       "    <tr>\n",
       "      <th>38571</th>\n",
       "      <td>803452</td>\n",
       "      <td>NJ</td>\n",
       "      <td>INDIVIDUAL</td>\n",
       "      <td>&lt; 1 year</td>\n",
       "      <td>Joseph M Sanzari Company</td>\n",
       "      <td>C</td>\n",
       "      <td>MORTGAGE</td>\n",
       "      <td>11-07-2021</td>\n",
       "      <td>16-05-2021</td>\n",
       "      <td>16-05-2021</td>\n",
       "      <td>Current</td>\n",
       "      <td>16-06-2021</td>\n",
       "      <td>992381</td>\n",
       "      <td>wedding</td>\n",
       "      <td>C1</td>\n",
       "      <td>60 months</td>\n",
       "      <td>Verified</td>\n",
       "      <td>100000.0</td>\n",
       "      <td>0.1986</td>\n",
       "      <td>551.64</td>\n",
       "      <td>0.1299</td>\n",
       "      <td>24250</td>\n",
       "      <td>33</td>\n",
       "      <td>31946</td>\n",
       "    </tr>\n",
       "    <tr>\n",
       "      <th>38572</th>\n",
       "      <td>970377</td>\n",
       "      <td>NY</td>\n",
       "      <td>INDIVIDUAL</td>\n",
       "      <td>8 years</td>\n",
       "      <td>Swat Fame</td>\n",
       "      <td>C</td>\n",
       "      <td>RENT</td>\n",
       "      <td>11-10-2021</td>\n",
       "      <td>16-04-2021</td>\n",
       "      <td>16-05-2021</td>\n",
       "      <td>Current</td>\n",
       "      <td>16-06-2021</td>\n",
       "      <td>1192039</td>\n",
       "      <td>wedding</td>\n",
       "      <td>C1</td>\n",
       "      <td>60 months</td>\n",
       "      <td>Verified</td>\n",
       "      <td>50000.0</td>\n",
       "      <td>0.0458</td>\n",
       "      <td>579.72</td>\n",
       "      <td>0.1349</td>\n",
       "      <td>25200</td>\n",
       "      <td>18</td>\n",
       "      <td>31870</td>\n",
       "    </tr>\n",
       "    <tr>\n",
       "      <th>38573</th>\n",
       "      <td>875376</td>\n",
       "      <td>CA</td>\n",
       "      <td>INDIVIDUAL</td>\n",
       "      <td>5 years</td>\n",
       "      <td>Anaheim Regional Medical Center</td>\n",
       "      <td>D</td>\n",
       "      <td>RENT</td>\n",
       "      <td>11-09-2021</td>\n",
       "      <td>16-05-2021</td>\n",
       "      <td>16-05-2021</td>\n",
       "      <td>Current</td>\n",
       "      <td>16-06-2021</td>\n",
       "      <td>1089898</td>\n",
       "      <td>wedding</td>\n",
       "      <td>D5</td>\n",
       "      <td>60 months</td>\n",
       "      <td>Verified</td>\n",
       "      <td>65000.0</td>\n",
       "      <td>0.1734</td>\n",
       "      <td>627.93</td>\n",
       "      <td>0.1749</td>\n",
       "      <td>25000</td>\n",
       "      <td>20</td>\n",
       "      <td>35721</td>\n",
       "    </tr>\n",
       "    <tr>\n",
       "      <th>38574</th>\n",
       "      <td>972997</td>\n",
       "      <td>NY</td>\n",
       "      <td>INDIVIDUAL</td>\n",
       "      <td>5 years</td>\n",
       "      <td>Brooklyn Radiology</td>\n",
       "      <td>D</td>\n",
       "      <td>RENT</td>\n",
       "      <td>11-10-2021</td>\n",
       "      <td>16-05-2021</td>\n",
       "      <td>16-05-2021</td>\n",
       "      <td>Current</td>\n",
       "      <td>16-06-2021</td>\n",
       "      <td>1194971</td>\n",
       "      <td>wedding</td>\n",
       "      <td>D5</td>\n",
       "      <td>60 months</td>\n",
       "      <td>Verified</td>\n",
       "      <td>368000.0</td>\n",
       "      <td>0.0009</td>\n",
       "      <td>612.72</td>\n",
       "      <td>0.1825</td>\n",
       "      <td>24000</td>\n",
       "      <td>9</td>\n",
       "      <td>33677</td>\n",
       "    </tr>\n",
       "    <tr>\n",
       "      <th>38575</th>\n",
       "      <td>682952</td>\n",
       "      <td>NY</td>\n",
       "      <td>INDIVIDUAL</td>\n",
       "      <td>4 years</td>\n",
       "      <td>Allen Edmonds</td>\n",
       "      <td>F</td>\n",
       "      <td>RENT</td>\n",
       "      <td>11-07-2021</td>\n",
       "      <td>16-05-2021</td>\n",
       "      <td>16-05-2021</td>\n",
       "      <td>Current</td>\n",
       "      <td>16-06-2021</td>\n",
       "      <td>872217</td>\n",
       "      <td>wedding</td>\n",
       "      <td>F3</td>\n",
       "      <td>60 months</td>\n",
       "      <td>Verified</td>\n",
       "      <td>80000.0</td>\n",
       "      <td>0.0600</td>\n",
       "      <td>486.86</td>\n",
       "      <td>0.2099</td>\n",
       "      <td>18000</td>\n",
       "      <td>7</td>\n",
       "      <td>27679</td>\n",
       "    </tr>\n",
       "  </tbody>\n",
       "</table>\n",
       "<p>38576 rows × 24 columns</p>\n",
       "</div>"
      ],
      "text/plain": [
       "            id address_state application_type emp_length  \\\n",
       "0      1077430            GA       INDIVIDUAL   < 1 year   \n",
       "1      1072053            CA       INDIVIDUAL    9 years   \n",
       "2      1069243            CA       INDIVIDUAL    4 years   \n",
       "3      1041756            TX       INDIVIDUAL   < 1 year   \n",
       "4      1068350            IL       INDIVIDUAL  10+ years   \n",
       "...        ...           ...              ...        ...   \n",
       "38571   803452            NJ       INDIVIDUAL   < 1 year   \n",
       "38572   970377            NY       INDIVIDUAL    8 years   \n",
       "38573   875376            CA       INDIVIDUAL    5 years   \n",
       "38574   972997            NY       INDIVIDUAL    5 years   \n",
       "38575   682952            NY       INDIVIDUAL    4 years   \n",
       "\n",
       "                             emp_title grade home_ownership  issue_date  \\\n",
       "0                                Ryder     C           RENT  11-02-2021   \n",
       "1                       MKC Accounting     E           RENT  01-01-2021   \n",
       "2                Chemat Technology Inc     C           RENT  05-01-2021   \n",
       "3                  barnes distribution     B       MORTGAGE  25-02-2021   \n",
       "4                                   ho     A       MORTGAGE  01-01-2021   \n",
       "...                                ...   ...            ...         ...   \n",
       "38571         Joseph M Sanzari Company     C       MORTGAGE  11-07-2021   \n",
       "38572                        Swat Fame     C           RENT  11-10-2021   \n",
       "38573  Anaheim Regional Medical Center     D           RENT  11-09-2021   \n",
       "38574               Brooklyn Radiology     D           RENT  11-10-2021   \n",
       "38575                    Allen Edmonds     F           RENT  11-07-2021   \n",
       "\n",
       "      last_credit_pull_date last_payment_date  loan_status next_payment_date  \\\n",
       "0                13-09-2021        13-04-2021  Charged Off        13-05-2021   \n",
       "1                14-12-2021        15-01-2021   Fully Paid        15-02-2021   \n",
       "2                12-12-2021        09-01-2021  Charged Off        09-02-2021   \n",
       "3                12-12-2021        12-03-2021   Fully Paid        12-04-2021   \n",
       "4                14-12-2021        15-01-2021   Fully Paid        15-02-2021   \n",
       "...                     ...               ...          ...               ...   \n",
       "38571            16-05-2021        16-05-2021      Current        16-06-2021   \n",
       "38572            16-04-2021        16-05-2021      Current        16-06-2021   \n",
       "38573            16-05-2021        16-05-2021      Current        16-06-2021   \n",
       "38574            16-05-2021        16-05-2021      Current        16-06-2021   \n",
       "38575            16-05-2021        16-05-2021      Current        16-06-2021   \n",
       "\n",
       "       member_id  purpose sub_grade        term verification_status  \\\n",
       "0        1314167      car        C4   60 months     Source Verified   \n",
       "1        1288686      car        E1   36 months     Source Verified   \n",
       "2        1304116      car        C5   36 months        Not Verified   \n",
       "3        1272024      car        B2   60 months     Source Verified   \n",
       "4        1302971      car        A1   36 months            Verified   \n",
       "...          ...      ...       ...         ...                 ...   \n",
       "38571     992381  wedding        C1   60 months            Verified   \n",
       "38572    1192039  wedding        C1   60 months            Verified   \n",
       "38573    1089898  wedding        D5   60 months            Verified   \n",
       "38574    1194971  wedding        D5   60 months            Verified   \n",
       "38575     872217  wedding        F3   60 months            Verified   \n",
       "\n",
       "       annual_income     dti  installment  int_rate  loan_amount  total_acc  \\\n",
       "0            30000.0  0.0100        59.83    0.1527         2500          4   \n",
       "1            48000.0  0.0535       109.43    0.1864         3000          4   \n",
       "2            50000.0  0.2088       421.65    0.1596        12000         11   \n",
       "3            42000.0  0.0540        97.06    0.1065         4500          9   \n",
       "4            83000.0  0.0231       106.53    0.0603         3500         28   \n",
       "...              ...     ...          ...       ...          ...        ...   \n",
       "38571       100000.0  0.1986       551.64    0.1299        24250         33   \n",
       "38572        50000.0  0.0458       579.72    0.1349        25200         18   \n",
       "38573        65000.0  0.1734       627.93    0.1749        25000         20   \n",
       "38574       368000.0  0.0009       612.72    0.1825        24000          9   \n",
       "38575        80000.0  0.0600       486.86    0.2099        18000          7   \n",
       "\n",
       "       total_payment  \n",
       "0               1009  \n",
       "1               3939  \n",
       "2               3522  \n",
       "3               4911  \n",
       "4               3835  \n",
       "...              ...  \n",
       "38571          31946  \n",
       "38572          31870  \n",
       "38573          35721  \n",
       "38574          33677  \n",
       "38575          27679  \n",
       "\n",
       "[38576 rows x 24 columns]"
      ]
     },
     "execution_count": 7,
     "metadata": {},
     "output_type": "execute_result"
    }
   ],
   "source": [
    "loan"
   ]
  },
  {
   "cell_type": "markdown",
   "id": "0ef18435-21f5-4af4-a792-0f27968fa8f2",
   "metadata": {
    "jp-MarkdownHeadingCollapsed": true
   },
   "source": [
    "# 1. Data Exploration"
   ]
  },
  {
   "cell_type": "code",
   "execution_count": 8,
   "id": "4d8ae290-ee59-4e8c-8b26-a33b30a312a4",
   "metadata": {},
   "outputs": [
    {
     "name": "stdout",
     "output_type": "stream",
     "text": [
      "<class 'pandas.core.frame.DataFrame'>\n",
      "RangeIndex: 38576 entries, 0 to 38575\n",
      "Data columns (total 24 columns):\n",
      " #   Column                 Non-Null Count  Dtype  \n",
      "---  ------                 --------------  -----  \n",
      " 0   id                     38576 non-null  int64  \n",
      " 1   address_state          38576 non-null  object \n",
      " 2   application_type       38576 non-null  object \n",
      " 3   emp_length             38576 non-null  object \n",
      " 4   emp_title              37138 non-null  object \n",
      " 5   grade                  38576 non-null  object \n",
      " 6   home_ownership         38576 non-null  object \n",
      " 7   issue_date             38576 non-null  object \n",
      " 8   last_credit_pull_date  38576 non-null  object \n",
      " 9   last_payment_date      38576 non-null  object \n",
      " 10  loan_status            38576 non-null  object \n",
      " 11  next_payment_date      38576 non-null  object \n",
      " 12  member_id              38576 non-null  int64  \n",
      " 13  purpose                38576 non-null  object \n",
      " 14  sub_grade              38576 non-null  object \n",
      " 15  term                   38576 non-null  object \n",
      " 16  verification_status    38576 non-null  object \n",
      " 17  annual_income          38576 non-null  float64\n",
      " 18  dti                    38576 non-null  float64\n",
      " 19  installment            38576 non-null  float64\n",
      " 20  int_rate               38576 non-null  float64\n",
      " 21  loan_amount            38576 non-null  int64  \n",
      " 22  total_acc              38576 non-null  int64  \n",
      " 23  total_payment          38576 non-null  int64  \n",
      "dtypes: float64(4), int64(5), object(15)\n",
      "memory usage: 7.1+ MB\n"
     ]
    }
   ],
   "source": [
    "loan.info()"
   ]
  },
  {
   "cell_type": "code",
   "execution_count": 9,
   "id": "c35ad8e6-8ffe-4822-9698-2e19466ad874",
   "metadata": {},
   "outputs": [
    {
     "data": {
      "text/plain": [
       "array([ 30000. ,  48000. ,  50000. , ...,  44250. ,  57040.5, 368000. ])"
      ]
     },
     "execution_count": 9,
     "metadata": {},
     "output_type": "execute_result"
    }
   ],
   "source": [
    "loan[\"annual_income\"].unique()"
   ]
  },
  {
   "cell_type": "code",
   "execution_count": 10,
   "id": "0db0bc92-c5e0-4eca-8b8b-5dda15f202d0",
   "metadata": {},
   "outputs": [
    {
     "data": {
      "text/plain": [
       "Index(['id', 'address_state', 'application_type', 'emp_length', 'emp_title',\n",
       "       'grade', 'home_ownership', 'issue_date', 'last_credit_pull_date',\n",
       "       'last_payment_date', 'loan_status', 'next_payment_date', 'member_id',\n",
       "       'purpose', 'sub_grade', 'term', 'verification_status', 'annual_income',\n",
       "       'dti', 'installment', 'int_rate', 'loan_amount', 'total_acc',\n",
       "       'total_payment'],\n",
       "      dtype='object')"
      ]
     },
     "execution_count": 10,
     "metadata": {},
     "output_type": "execute_result"
    }
   ],
   "source": [
    "loan.columns"
   ]
  },
  {
   "cell_type": "code",
   "execution_count": null,
   "id": "8f4939fe-f585-407f-9cd2-e6f61561b3e5",
   "metadata": {},
   "outputs": [],
   "source": []
  },
  {
   "cell_type": "markdown",
   "id": "7a62f0e9-1b33-42d9-8be5-354422aeba1b",
   "metadata": {},
   "source": [
    "### count"
   ]
  },
  {
   "cell_type": "code",
   "execution_count": 11,
   "id": "52f83a6c-2206-43b1-a729-d9ef555db4a0",
   "metadata": {},
   "outputs": [],
   "source": [
    "count= ['id','member_id','loan_amount', 'total_acc',\n",
    "       'total_payment']"
   ]
  },
  {
   "cell_type": "code",
   "execution_count": null,
   "id": "ff661bf9-c25c-4ff4-b5b0-f5a2c4718b79",
   "metadata": {},
   "outputs": [],
   "source": []
  },
  {
   "cell_type": "code",
   "execution_count": 12,
   "id": "996c5f29-2744-422d-b32b-4f355c5eb9eb",
   "metadata": {},
   "outputs": [
    {
     "data": {
      "text/plain": [
       "count    3.857600e+04\n",
       "mean     6.810371e+05\n",
       "std      2.113246e+05\n",
       "min      5.473400e+04\n",
       "25%      5.135170e+05\n",
       "50%      6.627280e+05\n",
       "75%      8.365060e+05\n",
       "max      1.077501e+06\n",
       "Name: id, dtype: float64"
      ]
     },
     "execution_count": 12,
     "metadata": {},
     "output_type": "execute_result"
    }
   ],
   "source": [
    "loan[\"id\"].describe()"
   ]
  },
  {
   "cell_type": "code",
   "execution_count": 13,
   "id": "bb39fdf9-190c-440a-bb51-da02c87b2288",
   "metadata": {},
   "outputs": [
    {
     "data": {
      "text/plain": [
       "member_id\n",
       "1314167    1\n",
       "317830     1\n",
       "605588     1\n",
       "607168     1\n",
       "539366     1\n",
       "          ..\n",
       "354316     1\n",
       "222675     1\n",
       "592798     1\n",
       "1070101    1\n",
       "872217     1\n",
       "Name: count, Length: 38576, dtype: int64"
      ]
     },
     "execution_count": 13,
     "metadata": {},
     "output_type": "execute_result"
    }
   ],
   "source": [
    "loan['member_id'].value_counts()"
   ]
  },
  {
   "cell_type": "code",
   "execution_count": 14,
   "id": "4eed61db-33d0-4c5a-8295-5f69dc94144e",
   "metadata": {},
   "outputs": [
    {
     "data": {
      "text/plain": [
       "count    3.857600e+04\n",
       "mean     8.476515e+05\n",
       "std      2.668105e+05\n",
       "min      7.069900e+04\n",
       "25%      6.629788e+05\n",
       "50%      8.473565e+05\n",
       "75%      1.045652e+06\n",
       "max      1.314167e+06\n",
       "Name: member_id, dtype: float64"
      ]
     },
     "execution_count": 14,
     "metadata": {},
     "output_type": "execute_result"
    }
   ],
   "source": [
    "loan[\"member_id\"].describe()"
   ]
  },
  {
   "cell_type": "code",
   "execution_count": 15,
   "id": "7c51da49-f242-4d35-abab-ce0555748c79",
   "metadata": {},
   "outputs": [
    {
     "data": {
      "text/plain": [
       "count    38576.000000\n",
       "mean     11296.066855\n",
       "std       7460.746022\n",
       "min        500.000000\n",
       "25%       5500.000000\n",
       "50%      10000.000000\n",
       "75%      15000.000000\n",
       "max      35000.000000\n",
       "Name: loan_amount, dtype: float64"
      ]
     },
     "execution_count": 15,
     "metadata": {},
     "output_type": "execute_result"
    }
   ],
   "source": [
    "loan[\"loan_amount\"].describe()"
   ]
  },
  {
   "cell_type": "code",
   "execution_count": 16,
   "id": "5e393839-516c-4ff6-a12e-9b4417c1d689",
   "metadata": {},
   "outputs": [
    {
     "data": {
      "text/plain": [
       "loan_amount\n",
       "10000    2761\n",
       "12000    2295\n",
       "5000     1977\n",
       "15000    1860\n",
       "6000     1852\n",
       "         ... \n",
       "15675       1\n",
       "24175       1\n",
       "5725        1\n",
       "1625        1\n",
       "24975       1\n",
       "Name: count, Length: 880, dtype: int64"
      ]
     },
     "execution_count": 16,
     "metadata": {},
     "output_type": "execute_result"
    }
   ],
   "source": [
    "loan[\"loan_amount\"].value_counts()"
   ]
  },
  {
   "cell_type": "code",
   "execution_count": 17,
   "id": "4eaf9301-f4bc-4ebb-87db-4b625764dc60",
   "metadata": {},
   "outputs": [
    {
     "data": {
      "text/plain": [
       "count    38576.000000\n",
       "mean        22.132544\n",
       "std         11.392282\n",
       "min          2.000000\n",
       "25%         14.000000\n",
       "50%         20.000000\n",
       "75%         29.000000\n",
       "max         90.000000\n",
       "Name: total_acc, dtype: float64"
      ]
     },
     "execution_count": 17,
     "metadata": {},
     "output_type": "execute_result"
    }
   ],
   "source": [
    "loan[\"total_acc\"].describe()"
   ]
  },
  {
   "cell_type": "code",
   "execution_count": 18,
   "id": "180fd332-ee1f-472b-82ce-395b80de6820",
   "metadata": {},
   "outputs": [
    {
     "data": {
      "text/plain": [
       "count    38576.000000\n",
       "mean     12263.348533\n",
       "std       9051.104777\n",
       "min         34.000000\n",
       "25%       5633.000000\n",
       "50%      10042.000000\n",
       "75%      16658.000000\n",
       "max      58564.000000\n",
       "Name: total_payment, dtype: float64"
      ]
     },
     "execution_count": 18,
     "metadata": {},
     "output_type": "execute_result"
    }
   ],
   "source": [
    "loan[\"total_payment\"].describe()"
   ]
  },
  {
   "cell_type": "markdown",
   "id": "0e4cd8e3-0a61-4c34-b4aa-b6112e1b6384",
   "metadata": {},
   "source": [
    "### continous"
   ]
  },
  {
   "cell_type": "code",
   "execution_count": 19,
   "id": "aa300800-3cde-43f1-8d18-df5d178632b5",
   "metadata": {},
   "outputs": [],
   "source": [
    "continous= ['emp_length','annual_income',\n",
    "       'dti', 'installment', 'int_rate']"
   ]
  },
  {
   "cell_type": "code",
   "execution_count": null,
   "id": "ac43508f-2861-49ac-87f5-64fa0a3eaee0",
   "metadata": {},
   "outputs": [],
   "source": []
  },
  {
   "cell_type": "code",
   "execution_count": 20,
   "id": "7041043b-b40a-473a-ba35-1d0a75166d7a",
   "metadata": {},
   "outputs": [
    {
     "data": {
      "text/plain": [
       "count         38576\n",
       "unique           11\n",
       "top       10+ years\n",
       "freq           8870\n",
       "Name: emp_length, dtype: object"
      ]
     },
     "execution_count": 20,
     "metadata": {},
     "output_type": "execute_result"
    }
   ],
   "source": [
    "loan[\"emp_length\"].describe()"
   ]
  },
  {
   "cell_type": "code",
   "execution_count": 21,
   "id": "b2776d4c-5789-4b53-b2f5-03609ff2583b",
   "metadata": {},
   "outputs": [
    {
     "data": {
      "text/plain": [
       "array(['< 1 year', '9 years', '4 years', '10+ years', '3 years',\n",
       "       '5 years', '1 year', '6 years', '2 years', '7 years', '8 years'],\n",
       "      dtype=object)"
      ]
     },
     "execution_count": 21,
     "metadata": {},
     "output_type": "execute_result"
    }
   ],
   "source": [
    "loan[\"emp_length\"].unique()"
   ]
  },
  {
   "cell_type": "code",
   "execution_count": 22,
   "id": "d4e4e7b2-420e-4aee-8b2f-c2bc3e122eca",
   "metadata": {},
   "outputs": [
    {
     "data": {
      "text/plain": [
       "emp_length\n",
       "10+ years    8870\n",
       "< 1 year     4575\n",
       "2 years      4382\n",
       "3 years      4088\n",
       "4 years      3428\n",
       "5 years      3273\n",
       "1 year       3229\n",
       "6 years      2228\n",
       "7 years      1772\n",
       "8 years      1476\n",
       "9 years      1255\n",
       "Name: count, dtype: int64"
      ]
     },
     "execution_count": 22,
     "metadata": {},
     "output_type": "execute_result"
    }
   ],
   "source": [
    "loan[\"emp_length\"].value_counts()"
   ]
  },
  {
   "cell_type": "code",
   "execution_count": null,
   "id": "66254110-6771-49c8-a576-ba5a508c1125",
   "metadata": {},
   "outputs": [],
   "source": []
  },
  {
   "cell_type": "code",
   "execution_count": 23,
   "id": "8b2dc604-1a19-4f29-9d88-cda31de9108d",
   "metadata": {},
   "outputs": [
    {
     "data": {
      "text/plain": [
       "count    3.857600e+04\n",
       "mean     6.964454e+04\n",
       "std      6.429368e+04\n",
       "min      4.000000e+03\n",
       "25%      4.150000e+04\n",
       "50%      6.000000e+04\n",
       "75%      8.320050e+04\n",
       "max      6.000000e+06\n",
       "Name: annual_income, dtype: float64"
      ]
     },
     "execution_count": 23,
     "metadata": {},
     "output_type": "execute_result"
    }
   ],
   "source": [
    "loan['annual_income'].describe()"
   ]
  },
  {
   "cell_type": "code",
   "execution_count": 24,
   "id": "0c21466c-ca73-4929-b250-1c36527f395e",
   "metadata": {},
   "outputs": [
    {
     "data": {
      "text/plain": [
       "array([ 30000. ,  48000. ,  50000. , ...,  44250. ,  57040.5, 368000. ])"
      ]
     },
     "execution_count": 24,
     "metadata": {},
     "output_type": "execute_result"
    }
   ],
   "source": [
    "loan['annual_income'].unique()"
   ]
  },
  {
   "cell_type": "code",
   "execution_count": 25,
   "id": "dc4bf631-7bca-4b44-bae6-87e32da5e6de",
   "metadata": {},
   "outputs": [
    {
     "data": {
      "text/plain": [
       "annual_income\n",
       "60000.00     1471\n",
       "50000.00     1033\n",
       "40000.00      859\n",
       "45000.00      810\n",
       "75000.00      802\n",
       "             ... \n",
       "47838.00        1\n",
       "38000.04        1\n",
       "35570.00        1\n",
       "171600.00       1\n",
       "368000.00       1\n",
       "Name: count, Length: 5096, dtype: int64"
      ]
     },
     "execution_count": 25,
     "metadata": {},
     "output_type": "execute_result"
    }
   ],
   "source": [
    "loan['annual_income'].value_counts()"
   ]
  },
  {
   "cell_type": "code",
   "execution_count": null,
   "id": "571b4cab-7abc-419d-8a8f-7d0f016ff421",
   "metadata": {},
   "outputs": [],
   "source": []
  },
  {
   "cell_type": "code",
   "execution_count": 26,
   "id": "3a0edd10-a75d-477d-b9d9-f7b0c292e8c0",
   "metadata": {},
   "outputs": [
    {
     "data": {
      "text/plain": [
       "count    38576.000000\n",
       "mean         0.133274\n",
       "std          0.066662\n",
       "min          0.000000\n",
       "25%          0.082100\n",
       "50%          0.134200\n",
       "75%          0.185900\n",
       "max          0.299900\n",
       "Name: dti, dtype: float64"
      ]
     },
     "execution_count": 26,
     "metadata": {},
     "output_type": "execute_result"
    }
   ],
   "source": [
    "loan['dti'].describe()"
   ]
  },
  {
   "cell_type": "code",
   "execution_count": 27,
   "id": "d813681b-39f6-4811-9add-bb13f8eb9af2",
   "metadata": {},
   "outputs": [
    {
     "data": {
      "text/plain": [
       "array([0.01  , 0.0535, 0.2088, ..., 0.2721, 0.2543, 0.272 ])"
      ]
     },
     "execution_count": 27,
     "metadata": {},
     "output_type": "execute_result"
    }
   ],
   "source": [
    "loan['dti'].unique()"
   ]
  },
  {
   "cell_type": "code",
   "execution_count": 28,
   "id": "5821e5e0-5a97-4422-9479-038fc221596b",
   "metadata": {},
   "outputs": [
    {
     "data": {
      "text/plain": [
       "dti\n",
       "0.0000    173\n",
       "0.1200     48\n",
       "0.1800     44\n",
       "0.1920     40\n",
       "0.1680     38\n",
       "         ... \n",
       "0.2694      1\n",
       "0.2960      1\n",
       "0.2961      1\n",
       "0.2670      1\n",
       "0.2720      1\n",
       "Name: count, Length: 2863, dtype: int64"
      ]
     },
     "execution_count": 28,
     "metadata": {},
     "output_type": "execute_result"
    }
   ],
   "source": [
    "loan['dti'].value_counts()"
   ]
  },
  {
   "cell_type": "code",
   "execution_count": null,
   "id": "a9fbe3fd-5c10-4032-ba5e-5a26ee147d68",
   "metadata": {},
   "outputs": [],
   "source": []
  },
  {
   "cell_type": "code",
   "execution_count": 29,
   "id": "d58a3a47-9db6-4d75-ba82-ec8ec444c807",
   "metadata": {},
   "outputs": [
    {
     "data": {
      "text/plain": [
       "count    38576.000000\n",
       "mean       326.862965\n",
       "std        209.092000\n",
       "min         15.690000\n",
       "25%        168.450000\n",
       "50%        283.045000\n",
       "75%        434.442500\n",
       "max       1305.190000\n",
       "Name: installment, dtype: float64"
      ]
     },
     "execution_count": 29,
     "metadata": {},
     "output_type": "execute_result"
    }
   ],
   "source": [
    "loan['installment'].describe()"
   ]
  },
  {
   "cell_type": "code",
   "execution_count": 30,
   "id": "067e669a-08c4-4c1d-b93a-50d58d227d08",
   "metadata": {},
   "outputs": [
    {
     "data": {
      "text/plain": [
       "installment\n",
       "311.11    68\n",
       "311.02    54\n",
       "180.96    53\n",
       "150.80    46\n",
       "368.45    45\n",
       "          ..\n",
       "459.53     1\n",
       "215.15     1\n",
       "167.29     1\n",
       "218.66     1\n",
       "627.93     1\n",
       "Name: count, Length: 15132, dtype: int64"
      ]
     },
     "execution_count": 30,
     "metadata": {},
     "output_type": "execute_result"
    }
   ],
   "source": [
    "loan['installment'].value_counts()"
   ]
  },
  {
   "cell_type": "code",
   "execution_count": null,
   "id": "ec3a7a57-77f5-4121-b14f-e9e8ab9c6ee1",
   "metadata": {},
   "outputs": [],
   "source": []
  },
  {
   "cell_type": "code",
   "execution_count": 31,
   "id": "49ac39b0-bc91-4de5-86dd-722c137ce967",
   "metadata": {},
   "outputs": [
    {
     "data": {
      "text/plain": [
       "count    38576.000000\n",
       "mean         0.120488\n",
       "std          0.037164\n",
       "min          0.054200\n",
       "25%          0.093200\n",
       "50%          0.118600\n",
       "75%          0.145900\n",
       "max          0.245900\n",
       "Name: int_rate, dtype: float64"
      ]
     },
     "execution_count": 31,
     "metadata": {},
     "output_type": "execute_result"
    }
   ],
   "source": [
    "loan['int_rate'].describe()"
   ]
  },
  {
   "cell_type": "code",
   "execution_count": 32,
   "id": "41f617e6-9472-4494-b8de-b27028aadfef",
   "metadata": {},
   "outputs": [
    {
     "data": {
      "text/plain": [
       "array([0.1527, 0.1864, 0.1596, 0.1065, 0.0603, 0.1465, 0.1427, 0.079 ,\n",
       "       0.089 , 0.1269, 0.1242, 0.1171, 0.0991, 0.1629, 0.0743, 0.1114,\n",
       "       0.1109, 0.0766, 0.0751, 0.0963, 0.0894, 0.1148, 0.1149, 0.157 ,\n",
       "       0.0788, 0.0705, 0.1189, 0.1074, 0.1284, 0.0749, 0.0849, 0.1136,\n",
       "       0.1199, 0.1095, 0.1099, 0.1221, 0.1241, 0.1134, 0.1399, 0.1367,\n",
       "       0.1677, 0.1   , 0.0807, 0.0863, 0.0976, 0.1393, 0.0712, 0.1046,\n",
       "       0.092 , 0.1166, 0.1091, 0.1103, 0.074 , 0.0768, 0.0662, 0.0599,\n",
       "       0.0699, 0.0729, 0.0542, 0.0676, 0.0774, 0.0692, 0.0932, 0.0617,\n",
       "       0.0639, 0.0579, 0.08  , 0.0859, 0.0714, 0.0691, 0.0737, 0.0832,\n",
       "       0.0925, 0.1075, 0.0999, 0.1036, 0.1025, 0.1111, 0.1126, 0.1218,\n",
       "       0.1059, 0.0962, 0.1037, 0.1158, 0.0988, 0.1062, 0.1253, 0.1051,\n",
       "       0.1287, 0.1273, 0.138 , 0.1472, 0.1347, 0.1523, 0.1426, 0.1268,\n",
       "       0.1311, 0.1417, 0.1349, 0.1304, 0.1599, 0.1595, 0.1533, 0.0654,\n",
       "       0.1183, 0.1357, 0.1306, 0.1422, 0.1316, 0.1496, 0.1565, 0.1474,\n",
       "       0.1505, 0.1442, 0.1008, 0.1033, 0.0888, 0.1222, 0.1323, 0.1197,\n",
       "       0.1361, 0.1435, 0.1398, 0.1343, 0.1392, 0.1348, 0.1479, 0.1521,\n",
       "       0.1292, 0.1409, 0.1459, 0.1531, 0.1558, 0.1704, 0.1645, 0.1719,\n",
       "       0.183 , 0.1632, 0.1335, 0.1372, 0.1112, 0.0742, 0.1186, 0.1298,\n",
       "       0.1299, 0.1528, 0.1223, 0.1379, 0.1322, 0.1454, 0.1484, 0.1649,\n",
       "       0.16  , 0.152 , 0.1229, 0.1774, 0.1749, 0.1038, 0.1491, 0.1483,\n",
       "       0.1568, 0.1799, 0.1163, 0.1537, 0.1714, 0.1727, 0.1446, 0.1602,\n",
       "       0.1969, 0.1756, 0.164 , 0.1261, 0.1839, 0.1669, 0.1825, 0.1557,\n",
       "       0.1682, 0.1867, 0.2285, 0.1929, 0.1689, 0.1758, 0.1788, 0.1899,\n",
       "       0.2025, 0.1751, 0.1903, 0.2062, 0.1966, 0.1743, 0.1942, 0.2089,\n",
       "       0.1991, 0.2206, 0.203 , 0.2274, 0.2391, 0.0838, 0.087 , 0.1122,\n",
       "       0.1249, 0.0901, 0.1028, 0.1154, 0.1071, 0.1217, 0.0964, 0.133 ,\n",
       "       0.1236, 0.1355, 0.1633, 0.1809, 0.1538, 0.0907, 0.1146, 0.1083,\n",
       "       0.1128, 0.0775, 0.0996, 0.0951, 0.1078, 0.1267, 0.1387, 0.1407,\n",
       "       0.1482, 0.1583, 0.1488, 0.0933, 0.0945, 0.0983, 0.1039, 0.1141,\n",
       "       0.1172, 0.1324, 0.1438, 0.0938, 0.1212, 0.102 , 0.1385, 0.1159,\n",
       "       0.1272, 0.1611, 0.1178, 0.1317, 0.1562, 0.06  , 0.1286, 0.1411,\n",
       "       0.1461, 0.1739, 0.145 , 0.2099, 0.1384, 0.1191, 0.1607, 0.1412,\n",
       "       0.1418, 0.1879, 0.1913, 0.1821, 0.2017, 0.0791, 0.1209, 0.2174,\n",
       "       0.1462, 0.1746, 0.1979, 0.1941, 0.1096, 0.1635, 0.1663, 0.1853,\n",
       "       0.1862, 0.2127, 0.2086, 0.2069, 0.1254, 0.1726, 0.1817, 0.1974,\n",
       "       0.2211, 0.1706, 0.1793, 0.1936, 0.2313, 0.2136, 0.2235, 0.2011,\n",
       "       0.2248, 0.1854, 0.2122, 0.2128, 0.2167, 0.1807, 0.1904, 0.178 ,\n",
       "       0.2411, 0.2048, 0.2016, 0.2085, 0.2053, 0.2352, 0.1375, 0.1014,\n",
       "       0.1312, 0.128 , 0.1703, 0.1615, 0.1608, 0.2121, 0.1336, 0.1493,\n",
       "       0.209 , 0.167 , 0.1843, 0.1715, 0.1872, 0.1204, 0.1362, 0.1576,\n",
       "       0.1513, 0.1425, 0.1467, 0.1545, 0.1671, 0.097 , 0.1849, 0.1588,\n",
       "       0.1507, 0.1601, 0.1262, 0.1064, 0.1001, 0.0967, 0.143 , 0.1695,\n",
       "       0.1947, 0.1696, 0.1982, 0.2114, 0.1659, 0.1939, 0.2003, 0.1525,\n",
       "       0.204 , 0.1878, 0.162 , 0.2322, 0.2359, 0.2264, 0.2159, 0.1891,\n",
       "       0.202 , 0.2294, 0.2182, 0.2077, 0.2164, 0.179 , 0.1475, 0.1734,\n",
       "       0.147 , 0.1744, 0.2148, 0.2459, 0.244 , 0.1501, 0.2052, 0.1836,\n",
       "       0.1916, 0.1884, 0.1754])"
      ]
     },
     "execution_count": 32,
     "metadata": {},
     "output_type": "execute_result"
    }
   ],
   "source": [
    "loan['int_rate'].unique()"
   ]
  },
  {
   "cell_type": "code",
   "execution_count": 33,
   "id": "32392c50-61b6-4cab-b1e7-e43294b53b12",
   "metadata": {},
   "outputs": [
    {
     "data": {
      "text/plain": [
       "int_rate\n",
       "0.1099    932\n",
       "0.1349    811\n",
       "0.1149    796\n",
       "0.0751    755\n",
       "0.0788    701\n",
       "         ... \n",
       "0.2264      1\n",
       "0.1671      1\n",
       "0.1620      1\n",
       "0.1601      1\n",
       "0.1754      1\n",
       "Name: count, Length: 371, dtype: int64"
      ]
     },
     "execution_count": 33,
     "metadata": {},
     "output_type": "execute_result"
    }
   ],
   "source": [
    "loan['int_rate'].value_counts()"
   ]
  },
  {
   "cell_type": "code",
   "execution_count": null,
   "id": "2209b5ac-7d29-43bd-a4ab-86f2b9e146c6",
   "metadata": {},
   "outputs": [],
   "source": []
  },
  {
   "cell_type": "markdown",
   "id": "7428160f-80d3-42cf-91ff-58aa3edea99b",
   "metadata": {},
   "source": [
    "### categorical"
   ]
  },
  {
   "cell_type": "code",
   "execution_count": 34,
   "id": "b7a4cd7a-423c-41c7-abbd-6794f35eff32",
   "metadata": {},
   "outputs": [],
   "source": [
    "categorical= ['address_state', 'application_type', 'emp_title',\n",
    "       'grade', 'home_ownership', 'issue_date', 'last_credit_pull_date',\n",
    "       'last_payment_date', 'loan_status', 'next_payment_date',\n",
    "       'purpose', 'sub_grade', 'term', 'verification_status']"
   ]
  },
  {
   "cell_type": "code",
   "execution_count": null,
   "id": "ff8fb005-2929-40a1-b39c-2fa68f1e254b",
   "metadata": {},
   "outputs": [],
   "source": []
  },
  {
   "cell_type": "code",
   "execution_count": 35,
   "id": "1f517966-af29-46e9-a8fb-f48acbdbb5eb",
   "metadata": {},
   "outputs": [
    {
     "data": {
      "text/plain": [
       "count     38576\n",
       "unique       50\n",
       "top          CA\n",
       "freq       6894\n",
       "Name: address_state, dtype: object"
      ]
     },
     "execution_count": 35,
     "metadata": {},
     "output_type": "execute_result"
    }
   ],
   "source": [
    "loan['address_state'].describe()"
   ]
  },
  {
   "cell_type": "code",
   "execution_count": 36,
   "id": "55318cff-295b-4e8a-8e1e-e4f5483adf9e",
   "metadata": {},
   "outputs": [
    {
     "data": {
      "text/plain": [
       "array(['GA', 'CA', 'TX', 'IL', 'PA', 'FL', 'MI', 'RI', 'NY', 'MD', 'WI',\n",
       "       'NV', 'UT', 'WA', 'NH', 'HI', 'MA', 'OK', 'NJ', 'OH', 'AZ', 'CT',\n",
       "       'MN', 'CO', 'TN', 'VA', 'MO', 'DE', 'NM', 'LA', 'AR', 'KY', 'NC',\n",
       "       'SC', 'WV', 'KS', 'WY', 'OR', 'AL', 'VT', 'MS', 'DC', 'MT', 'SD',\n",
       "       'AK', 'IN', 'ME', 'ID', 'NE', 'IA'], dtype=object)"
      ]
     },
     "execution_count": 36,
     "metadata": {},
     "output_type": "execute_result"
    }
   ],
   "source": [
    "loan['address_state'].unique()"
   ]
  },
  {
   "cell_type": "code",
   "execution_count": 37,
   "id": "8cd473ed-98d5-4f7e-ab03-2d7b46c1e882",
   "metadata": {},
   "outputs": [
    {
     "data": {
      "text/plain": [
       "address_state\n",
       "CA    6894\n",
       "NY    3701\n",
       "FL    2773\n",
       "TX    2664\n",
       "NJ    1822\n",
       "IL    1486\n",
       "PA    1482\n",
       "VA    1375\n",
       "GA    1355\n",
       "MA    1310\n",
       "OH    1188\n",
       "MD    1027\n",
       "AZ     833\n",
       "WA     805\n",
       "CO     770\n",
       "NC     759\n",
       "CT     730\n",
       "MI     685\n",
       "MO     660\n",
       "MN     592\n",
       "NV     482\n",
       "SC     464\n",
       "WI     446\n",
       "OR     436\n",
       "AL     432\n",
       "LA     426\n",
       "KY     320\n",
       "OK     293\n",
       "KS     260\n",
       "UT     252\n",
       "AR     236\n",
       "DC     214\n",
       "RI     196\n",
       "NM     183\n",
       "HI     170\n",
       "WV     167\n",
       "NH     161\n",
       "DE     110\n",
       "WY      79\n",
       "MT      79\n",
       "AK      78\n",
       "SD      63\n",
       "VT      54\n",
       "MS      19\n",
       "TN      17\n",
       "IN       9\n",
       "ID       6\n",
       "NE       5\n",
       "IA       5\n",
       "ME       3\n",
       "Name: count, dtype: int64"
      ]
     },
     "execution_count": 37,
     "metadata": {},
     "output_type": "execute_result"
    }
   ],
   "source": [
    "loan['address_state'].value_counts()"
   ]
  },
  {
   "cell_type": "code",
   "execution_count": null,
   "id": "88962752-5989-4d40-a18b-5ad55d3389b1",
   "metadata": {},
   "outputs": [],
   "source": []
  },
  {
   "cell_type": "code",
   "execution_count": 38,
   "id": "e80e0294-725e-4aa8-951b-85298aa51fd7",
   "metadata": {},
   "outputs": [
    {
     "data": {
      "text/plain": [
       "count          38576\n",
       "unique             1\n",
       "top       INDIVIDUAL\n",
       "freq           38576\n",
       "Name: application_type, dtype: object"
      ]
     },
     "execution_count": 38,
     "metadata": {},
     "output_type": "execute_result"
    }
   ],
   "source": [
    "loan['application_type'].describe()"
   ]
  },
  {
   "cell_type": "code",
   "execution_count": 39,
   "id": "b228e0ac-4ebc-4397-9c49-99a14022ba84",
   "metadata": {},
   "outputs": [
    {
     "data": {
      "text/plain": [
       "array(['INDIVIDUAL'], dtype=object)"
      ]
     },
     "execution_count": 39,
     "metadata": {},
     "output_type": "execute_result"
    }
   ],
   "source": [
    "loan['application_type'].unique()"
   ]
  },
  {
   "cell_type": "code",
   "execution_count": 40,
   "id": "48133fd2-6300-4b79-8476-0f1f0d0f9a76",
   "metadata": {},
   "outputs": [
    {
     "data": {
      "text/plain": [
       "application_type\n",
       "INDIVIDUAL    38576\n",
       "Name: count, dtype: int64"
      ]
     },
     "execution_count": 40,
     "metadata": {},
     "output_type": "execute_result"
    }
   ],
   "source": [
    "loan['application_type'].value_counts()"
   ]
  },
  {
   "cell_type": "code",
   "execution_count": null,
   "id": "f8300a3b-6105-49ab-b67f-49bf1308bef7",
   "metadata": {},
   "outputs": [],
   "source": []
  },
  {
   "cell_type": "code",
   "execution_count": 41,
   "id": "3efa72fb-db30-4700-8fa6-7c2231c603cf",
   "metadata": {},
   "outputs": [
    {
     "data": {
      "text/plain": [
       "count       37138\n",
       "unique      28525\n",
       "top       US Army\n",
       "freq          135\n",
       "Name: emp_title, dtype: object"
      ]
     },
     "execution_count": 41,
     "metadata": {},
     "output_type": "execute_result"
    }
   ],
   "source": [
    "loan['emp_title'].describe()"
   ]
  },
  {
   "cell_type": "code",
   "execution_count": 42,
   "id": "ad93df53-c9df-4baa-a187-dc98624f1e37",
   "metadata": {},
   "outputs": [
    {
     "data": {
      "text/plain": [
       "array(['Ryder', 'MKC Accounting', 'Chemat Technology Inc', ...,\n",
       "       'Anaheim Regional Medical Center', 'Brooklyn Radiology',\n",
       "       'Allen Edmonds'], dtype=object)"
      ]
     },
     "execution_count": 42,
     "metadata": {},
     "output_type": "execute_result"
    }
   ],
   "source": [
    "loan['emp_title'].unique()"
   ]
  },
  {
   "cell_type": "code",
   "execution_count": 43,
   "id": "e19a8fcb-9c4e-40b4-bcb0-d5c02ea99669",
   "metadata": {},
   "outputs": [
    {
     "data": {
      "text/plain": [
       "emp_title\n",
       "US Army                           135\n",
       "Bank of America                   109\n",
       "IBM                                67\n",
       "AT&T                               63\n",
       "Wells Fargo                        57\n",
       "                                 ... \n",
       "Emeril's Delmonico's                1\n",
       "The Shafer Law Group                1\n",
       "U.S navy                            1\n",
       "Wellspring Healthcare Services      1\n",
       "Allen Edmonds                       1\n",
       "Name: count, Length: 28525, dtype: int64"
      ]
     },
     "execution_count": 43,
     "metadata": {},
     "output_type": "execute_result"
    }
   ],
   "source": [
    "loan['emp_title'].value_counts()"
   ]
  },
  {
   "cell_type": "code",
   "execution_count": null,
   "id": "363318d2-2788-4762-87f3-010a79670f51",
   "metadata": {},
   "outputs": [],
   "source": []
  },
  {
   "cell_type": "code",
   "execution_count": 44,
   "id": "0a17be72-bfb1-4c6f-8744-fb599d7acacf",
   "metadata": {},
   "outputs": [
    {
     "data": {
      "text/plain": [
       "count     38576\n",
       "unique        7\n",
       "top           B\n",
       "freq      11674\n",
       "Name: grade, dtype: object"
      ]
     },
     "execution_count": 44,
     "metadata": {},
     "output_type": "execute_result"
    }
   ],
   "source": [
    "loan['grade'].describe()"
   ]
  },
  {
   "cell_type": "code",
   "execution_count": 45,
   "id": "09d3cdba-f0a0-4f2f-bd8e-da2cbe9a08c2",
   "metadata": {},
   "outputs": [
    {
     "data": {
      "text/plain": [
       "array(['C', 'E', 'B', 'A', 'D', 'F', 'G'], dtype=object)"
      ]
     },
     "execution_count": 45,
     "metadata": {},
     "output_type": "execute_result"
    }
   ],
   "source": [
    "loan['grade'].unique()"
   ]
  },
  {
   "cell_type": "code",
   "execution_count": 46,
   "id": "2d92afae-d71b-487d-a107-62de84364b71",
   "metadata": {},
   "outputs": [
    {
     "data": {
      "text/plain": [
       "grade\n",
       "B    11674\n",
       "A     9689\n",
       "C     7904\n",
       "D     5182\n",
       "E     2786\n",
       "F     1028\n",
       "G      313\n",
       "Name: count, dtype: int64"
      ]
     },
     "execution_count": 46,
     "metadata": {},
     "output_type": "execute_result"
    }
   ],
   "source": [
    "loan['grade'].value_counts()"
   ]
  },
  {
   "cell_type": "code",
   "execution_count": null,
   "id": "f19dd8d9-4361-4cc8-b1bf-68309fadd4bf",
   "metadata": {},
   "outputs": [],
   "source": []
  },
  {
   "cell_type": "code",
   "execution_count": 47,
   "id": "e274250b-b9a4-4777-b2cc-3fcaa43132ec",
   "metadata": {},
   "outputs": [
    {
     "data": {
      "text/plain": [
       "count     38576\n",
       "unique        5\n",
       "top        RENT\n",
       "freq      18439\n",
       "Name: home_ownership, dtype: object"
      ]
     },
     "execution_count": 47,
     "metadata": {},
     "output_type": "execute_result"
    }
   ],
   "source": [
    "loan['home_ownership'].describe()"
   ]
  },
  {
   "cell_type": "code",
   "execution_count": 48,
   "id": "937d16eb-0f6a-47a4-a63c-7146bc0717a0",
   "metadata": {},
   "outputs": [
    {
     "data": {
      "text/plain": [
       "array(['RENT', 'MORTGAGE', 'OWN', 'OTHER', 'NONE'], dtype=object)"
      ]
     },
     "execution_count": 48,
     "metadata": {},
     "output_type": "execute_result"
    }
   ],
   "source": [
    "loan['home_ownership'].unique()"
   ]
  },
  {
   "cell_type": "code",
   "execution_count": 49,
   "id": "e85d848d-2a57-47dd-85be-28065298d87f",
   "metadata": {},
   "outputs": [
    {
     "data": {
      "text/plain": [
       "home_ownership\n",
       "RENT        18439\n",
       "MORTGAGE    17198\n",
       "OWN          2838\n",
       "OTHER          98\n",
       "NONE            3\n",
       "Name: count, dtype: int64"
      ]
     },
     "execution_count": 49,
     "metadata": {},
     "output_type": "execute_result"
    }
   ],
   "source": [
    "loan['home_ownership'].value_counts()"
   ]
  },
  {
   "cell_type": "code",
   "execution_count": null,
   "id": "e7082b0e-34d7-4ab9-971d-7ab3d6429e24",
   "metadata": {},
   "outputs": [],
   "source": []
  },
  {
   "cell_type": "code",
   "execution_count": 50,
   "id": "b63d0e6f-91c8-4243-9833-28e3f5fd8920",
   "metadata": {},
   "outputs": [
    {
     "data": {
      "text/plain": [
       "count          38576\n",
       "unique            65\n",
       "top       11-12-2021\n",
       "freq            2188\n",
       "Name: issue_date, dtype: object"
      ]
     },
     "execution_count": 50,
     "metadata": {},
     "output_type": "execute_result"
    }
   ],
   "source": [
    "loan['issue_date'].describe()"
   ]
  },
  {
   "cell_type": "code",
   "execution_count": 51,
   "id": "90c7324a-af1b-441e-ae42-88439f2c2ac4",
   "metadata": {},
   "outputs": [
    {
     "data": {
      "text/plain": [
       "array(['11-02-2021', '01-01-2021', '05-01-2021', '25-02-2021',\n",
       "       '17-07-2021', '19-11-2021', '11-06-2021', '02-09-2021',\n",
       "       '09-02-2021', '22-07-2021', '11-09-2021', '11-08-2021',\n",
       "       '11-12-2021', '11-10-2021', '02-12-2021', '09-10-2021',\n",
       "       '12-12-2021', '02-02-2021', '07-07-2021', '08-01-2021',\n",
       "       '09-08-2021', '11-01-2021', '11-11-2021', '09-06-2021',\n",
       "       '10-01-2021', '11-05-2021', '10-03-2021', '10-05-2021',\n",
       "       '09-05-2021', '11-04-2021', '09-07-2021', '09-12-2021',\n",
       "       '09-11-2021', '09-03-2021', '08-10-2021', '08-03-2021',\n",
       "       '08-11-2021', '07-09-2021', '08-02-2021', '07-08-2021',\n",
       "       '09-01-2021', '10-12-2021', '11-03-2021', '10-07-2021',\n",
       "       '11-07-2021', '09-04-2021', '10-02-2021', '10-08-2021',\n",
       "       '10-04-2021', '10-11-2021', '10-10-2021', '10-06-2021',\n",
       "       '09-09-2021', '08-08-2021', '10-09-2021', '08-12-2021',\n",
       "       '08-05-2021', '08-06-2021', '08-09-2021', '08-07-2021',\n",
       "       '08-04-2021', '07-11-2021', '07-10-2021', '07-12-2021',\n",
       "       '07-06-2021'], dtype=object)"
      ]
     },
     "execution_count": 51,
     "metadata": {},
     "output_type": "execute_result"
    }
   ],
   "source": [
    "loan['issue_date'].unique()"
   ]
  },
  {
   "cell_type": "code",
   "execution_count": 52,
   "id": "6ad1004e-59f5-4cc5-a079-4f67aad8bdd8",
   "metadata": {},
   "outputs": [
    {
     "data": {
      "text/plain": [
       "issue_date\n",
       "11-12-2021    2188\n",
       "11-11-2021    2120\n",
       "11-10-2021    2025\n",
       "11-09-2021    1980\n",
       "11-08-2021    1873\n",
       "              ... \n",
       "02-09-2021       1\n",
       "22-07-2021       1\n",
       "12-12-2021       1\n",
       "02-02-2021       1\n",
       "07-06-2021       1\n",
       "Name: count, Length: 65, dtype: int64"
      ]
     },
     "execution_count": 52,
     "metadata": {},
     "output_type": "execute_result"
    }
   ],
   "source": [
    "loan['issue_date'].value_counts()"
   ]
  },
  {
   "cell_type": "code",
   "execution_count": 53,
   "id": "3324c028-c9ce-492b-9234-dc1d009e7e05",
   "metadata": {},
   "outputs": [
    {
     "data": {
      "text/plain": [
       "count          38576\n",
       "unique           107\n",
       "top       16-05-2021\n",
       "freq           10041\n",
       "Name: last_credit_pull_date, dtype: object"
      ]
     },
     "execution_count": 53,
     "metadata": {},
     "output_type": "execute_result"
    }
   ],
   "source": [
    "loan['last_credit_pull_date'].describe()"
   ]
  },
  {
   "cell_type": "code",
   "execution_count": 54,
   "id": "6203a076-77e7-46e5-9a71-4c08e1816d4c",
   "metadata": {},
   "outputs": [
    {
     "data": {
      "text/plain": [
       "array(['13-09-2021', '14-12-2021', '12-12-2021', '16-03-2021',\n",
       "       '14-06-2021', '14-07-2021', '15-06-2021', '13-03-2021',\n",
       "       '13-10-2021', '14-02-2021', '16-04-2021', '15-09-2021',\n",
       "       '16-05-2021', '09-12-2021', '13-02-2021', '13-11-2021',\n",
       "       '10-11-2021', '14-04-2021', '12-01-2021', '12-03-2021',\n",
       "       '11-06-2021', '13-12-2021', '12-06-2021', '14-03-2021',\n",
       "       '11-04-2021', '11-11-2021', '15-02-2021', '11-07-2021',\n",
       "       '10-12-2021', '11-01-2021', '07-08-2021', '10-05-2021',\n",
       "       '12-09-2021', '10-09-2021', '10-02-2021', '11-03-2021',\n",
       "       '16-02-2021', '12-05-2021', '11-02-2021', '14-10-2021',\n",
       "       '14-01-2021', '11-09-2021', '14-11-2021', '14-09-2021',\n",
       "       '15-12-2021', '12-11-2021', '15-11-2021', '14-08-2021',\n",
       "       '15-07-2021', '11-12-2021', '15-10-2021', '13-08-2021',\n",
       "       '10-03-2021', '11-08-2021', '16-01-2021', '13-07-2021',\n",
       "       '13-04-2021', '14-05-2021', '13-05-2021', '15-05-2021',\n",
       "       '12-08-2021', '15-01-2021', '11-05-2021', '15-04-2021',\n",
       "       '12-10-2021', '11-10-2021', '15-08-2021', '12-02-2021',\n",
       "       '10-04-2021', '13-06-2021', '09-02-2021', '08-12-2021',\n",
       "       '15-03-2021', '12-04-2021', '12-07-2021', '13-01-2021',\n",
       "       '10-07-2021', '10-10-2021', '09-09-2021', '10-06-2021',\n",
       "       '10-08-2021', '09-11-2021', '09-10-2021', '07-06-2021',\n",
       "       '09-06-2021', '07-12-2021', '09-08-2021', '09-01-2021',\n",
       "       '09-03-2021', '08-08-2021', '10-01-2021', '09-05-2021',\n",
       "       '08-10-2021', '08-09-2021', '08-02-2021', '08-01-2021',\n",
       "       '09-04-2021', '07-10-2021', '09-07-2021', '08-05-2021',\n",
       "       '08-03-2021', '07-05-2021', '08-07-2021', '07-09-2021',\n",
       "       '20-01-2022', '08-06-2021', '07-07-2021'], dtype=object)"
      ]
     },
     "execution_count": 54,
     "metadata": {},
     "output_type": "execute_result"
    }
   ],
   "source": [
    "loan['last_credit_pull_date'].unique()"
   ]
  },
  {
   "cell_type": "code",
   "execution_count": 55,
   "id": "8d9a432e-ad5c-4656-8b82-ba78c3da83fb",
   "metadata": {},
   "outputs": [
    {
     "data": {
      "text/plain": [
       "last_credit_pull_date\n",
       "16-05-2021    10041\n",
       "16-04-2021     2477\n",
       "16-03-2021     1096\n",
       "13-02-2021      832\n",
       "16-02-2021      714\n",
       "              ...  \n",
       "07-05-2021        1\n",
       "08-07-2021        1\n",
       "20-01-2022        1\n",
       "08-06-2021        1\n",
       "07-07-2021        1\n",
       "Name: count, Length: 107, dtype: int64"
      ]
     },
     "execution_count": 55,
     "metadata": {},
     "output_type": "execute_result"
    }
   ],
   "source": [
    "loan['last_credit_pull_date'].value_counts()"
   ]
  },
  {
   "cell_type": "code",
   "execution_count": null,
   "id": "3d3ad1c4-bf44-4f7d-89ea-82ac1b51c90d",
   "metadata": {},
   "outputs": [],
   "source": []
  },
  {
   "cell_type": "code",
   "execution_count": 56,
   "id": "4341d8d1-ee69-43b3-af33-e1572fb0ca13",
   "metadata": {},
   "outputs": [
    {
     "data": {
      "text/plain": [
       "count          38576\n",
       "unique           102\n",
       "top       16-05-2021\n",
       "freq            1209\n",
       "Name: last_payment_date, dtype: object"
      ]
     },
     "execution_count": 56,
     "metadata": {},
     "output_type": "execute_result"
    }
   ],
   "source": [
    "loan['last_payment_date'].describe()"
   ]
  },
  {
   "cell_type": "code",
   "execution_count": 57,
   "id": "87c817de-e56a-482b-8e5a-e1e393a60992",
   "metadata": {},
   "outputs": [
    {
     "data": {
      "text/plain": [
       "array(['13-04-2021', '15-01-2021', '09-01-2021', '12-03-2021',\n",
       "       '12-08-2021', '13-12-2021', '14-07-2021', '12-10-2021',\n",
       "       '16-03-2021', '13-08-2021', '13-09-2021', '14-12-2021',\n",
       "       '13-10-2021', '12-11-2021', '15-02-2021', '10-08-2021',\n",
       "       '10-02-2021', '11-06-2021', '08-08-2021', '13-06-2021',\n",
       "       '09-12-2021', '12-02-2021', '12-07-2021', '10-07-2021',\n",
       "       '13-01-2021', '11-08-2021', '11-10-2021', '11-01-2021',\n",
       "       '13-07-2021', '09-10-2021', '13-11-2021', '10-11-2021',\n",
       "       '11-03-2021', '11-07-2021', '12-06-2021', '11-12-2021',\n",
       "       '09-09-2021', '13-05-2021', '14-03-2021', '08-04-2021',\n",
       "       '10-10-2021', '10-05-2021', '11-02-2021', '10-09-2021',\n",
       "       '10-04-2021', '10-06-2021', '12-05-2021', '14-10-2021',\n",
       "       '14-06-2021', '14-05-2021', '14-01-2021', '14-04-2021',\n",
       "       '11-09-2021', '14-08-2021', '14-11-2021', '12-01-2021',\n",
       "       '14-02-2021', '12-12-2021', '12-04-2021', '13-02-2021',\n",
       "       '14-09-2021', '10-03-2021', '11-11-2021', '11-04-2021',\n",
       "       '13-03-2021', '11-05-2021', '09-11-2021', '12-09-2021',\n",
       "       '09-02-2021', '08-12-2021', '10-12-2021', '09-07-2021',\n",
       "       '10-01-2021', '09-06-2021', '15-04-2021', '15-03-2021',\n",
       "       '16-02-2021', '15-05-2021', '16-05-2021', '15-11-2021',\n",
       "       '16-04-2021', '15-06-2021', '15-10-2021', '15-09-2021',\n",
       "       '15-07-2021', '16-01-2021', '15-12-2021', '15-08-2021',\n",
       "       '16-06-2021', '09-05-2021', '08-10-2021', '09-08-2021',\n",
       "       '09-04-2021', '08-05-2021', '09-03-2021', '08-09-2021',\n",
       "       '08-11-2021', '08-07-2021', '08-06-2021', '08-03-2021',\n",
       "       '08-02-2021', '08-01-2021'], dtype=object)"
      ]
     },
     "execution_count": 57,
     "metadata": {},
     "output_type": "execute_result"
    }
   ],
   "source": [
    "loan['last_payment_date'].unique()"
   ]
  },
  {
   "cell_type": "code",
   "execution_count": 58,
   "id": "9ce788ed-e8a4-4d7f-8bd7-c6c77a2a6389",
   "metadata": {},
   "outputs": [
    {
     "data": {
      "text/plain": [
       "last_payment_date\n",
       "16-05-2021    1209\n",
       "13-03-2021    1001\n",
       "14-12-2021     909\n",
       "13-05-2021     884\n",
       "13-02-2021     845\n",
       "              ... \n",
       "08-11-2021      10\n",
       "08-06-2021      10\n",
       "08-03-2021       5\n",
       "08-01-2021       4\n",
       "08-02-2021       1\n",
       "Name: count, Length: 102, dtype: int64"
      ]
     },
     "execution_count": 58,
     "metadata": {},
     "output_type": "execute_result"
    }
   ],
   "source": [
    "loan['last_payment_date'].value_counts()"
   ]
  },
  {
   "cell_type": "code",
   "execution_count": null,
   "id": "c2ff2689-efca-4180-9ce2-345095444442",
   "metadata": {},
   "outputs": [],
   "source": []
  },
  {
   "cell_type": "code",
   "execution_count": 59,
   "id": "8d90f5c3-e342-450b-b34f-a25f8e420971",
   "metadata": {},
   "outputs": [
    {
     "data": {
      "text/plain": [
       "count          38576\n",
       "unique             3\n",
       "top       Fully Paid\n",
       "freq           32145\n",
       "Name: loan_status, dtype: object"
      ]
     },
     "execution_count": 59,
     "metadata": {},
     "output_type": "execute_result"
    }
   ],
   "source": [
    "loan['loan_status'].describe()"
   ]
  },
  {
   "cell_type": "code",
   "execution_count": 60,
   "id": "9d94997c-6bdc-4002-a547-9cefea166acb",
   "metadata": {},
   "outputs": [
    {
     "data": {
      "text/plain": [
       "array(['Charged Off', 'Fully Paid', 'Current'], dtype=object)"
      ]
     },
     "execution_count": 60,
     "metadata": {},
     "output_type": "execute_result"
    }
   ],
   "source": [
    "loan['loan_status'].unique()"
   ]
  },
  {
   "cell_type": "code",
   "execution_count": 61,
   "id": "accf5365-5c40-4123-b4b0-6bc64c8aa4d0",
   "metadata": {},
   "outputs": [
    {
     "data": {
      "text/plain": [
       "loan_status\n",
       "Fully Paid     32145\n",
       "Charged Off     5333\n",
       "Current         1098\n",
       "Name: count, dtype: int64"
      ]
     },
     "execution_count": 61,
     "metadata": {},
     "output_type": "execute_result"
    }
   ],
   "source": [
    "loan['loan_status'].value_counts()"
   ]
  },
  {
   "cell_type": "code",
   "execution_count": null,
   "id": "e801690c-2ff0-4270-9ac2-a3da4c6ba2b5",
   "metadata": {},
   "outputs": [],
   "source": []
  },
  {
   "cell_type": "code",
   "execution_count": 62,
   "id": "31bb0c75-4536-4334-8daa-6dbdf3cb0a36",
   "metadata": {},
   "outputs": [
    {
     "data": {
      "text/plain": [
       "count          38576\n",
       "unique           102\n",
       "top       16-06-2021\n",
       "freq            1209\n",
       "Name: next_payment_date, dtype: object"
      ]
     },
     "execution_count": 62,
     "metadata": {},
     "output_type": "execute_result"
    }
   ],
   "source": [
    "loan['next_payment_date'].describe()"
   ]
  },
  {
   "cell_type": "code",
   "execution_count": 63,
   "id": "42f9ec0a-061f-49bf-838d-f801fc881626",
   "metadata": {},
   "outputs": [
    {
     "data": {
      "text/plain": [
       "array(['13-05-2021', '15-02-2021', '09-02-2021', '12-04-2021',\n",
       "       '12-09-2021', '13-01-2022', '14-08-2021', '12-11-2021',\n",
       "       '16-04-2021', '13-09-2021', '13-10-2021', '14-01-2022',\n",
       "       '13-11-2021', '12-12-2021', '15-03-2021', '10-09-2021',\n",
       "       '10-03-2021', '11-07-2021', '08-09-2021', '13-07-2021',\n",
       "       '09-01-2022', '12-03-2021', '12-08-2021', '10-08-2021',\n",
       "       '13-02-2021', '11-09-2021', '11-11-2021', '11-02-2021',\n",
       "       '13-08-2021', '09-11-2021', '13-12-2021', '10-12-2021',\n",
       "       '11-04-2021', '11-08-2021', '12-07-2021', '11-01-2022',\n",
       "       '09-10-2021', '13-06-2021', '14-04-2021', '08-05-2021',\n",
       "       '10-11-2021', '10-06-2021', '11-03-2021', '10-10-2021',\n",
       "       '10-05-2021', '10-07-2021', '12-06-2021', '14-11-2021',\n",
       "       '14-07-2021', '14-06-2021', '14-02-2021', '14-05-2021',\n",
       "       '11-10-2021', '14-09-2021', '14-12-2021', '12-02-2021',\n",
       "       '14-03-2021', '12-01-2022', '12-05-2021', '13-03-2021',\n",
       "       '14-10-2021', '10-04-2021', '11-12-2021', '11-05-2021',\n",
       "       '13-04-2021', '11-06-2021', '09-12-2021', '12-10-2021',\n",
       "       '09-03-2021', '08-01-2022', '10-01-2022', '09-08-2021',\n",
       "       '10-02-2021', '09-07-2021', '15-05-2021', '15-04-2021',\n",
       "       '16-03-2021', '15-06-2021', '16-06-2021', '15-12-2021',\n",
       "       '16-05-2021', '15-07-2021', '15-11-2021', '15-10-2021',\n",
       "       '15-08-2021', '16-02-2021', '15-01-2022', '15-09-2021',\n",
       "       '16-07-2021', '09-06-2021', '08-11-2021', '09-09-2021',\n",
       "       '09-05-2021', '08-06-2021', '09-04-2021', '08-10-2021',\n",
       "       '08-12-2021', '08-08-2021', '08-07-2021', '08-04-2021',\n",
       "       '08-03-2021', '08-02-2021'], dtype=object)"
      ]
     },
     "execution_count": 63,
     "metadata": {},
     "output_type": "execute_result"
    }
   ],
   "source": [
    "loan['next_payment_date'].unique()"
   ]
  },
  {
   "cell_type": "code",
   "execution_count": 64,
   "id": "f873ba36-ae3c-4913-8a3f-57b2c369827d",
   "metadata": {},
   "outputs": [
    {
     "data": {
      "text/plain": [
       "next_payment_date\n",
       "16-06-2021    1209\n",
       "13-04-2021    1001\n",
       "14-01-2022     909\n",
       "13-06-2021     884\n",
       "13-03-2021     845\n",
       "              ... \n",
       "08-12-2021      10\n",
       "08-07-2021      10\n",
       "08-04-2021       5\n",
       "08-02-2021       4\n",
       "08-03-2021       1\n",
       "Name: count, Length: 102, dtype: int64"
      ]
     },
     "execution_count": 64,
     "metadata": {},
     "output_type": "execute_result"
    }
   ],
   "source": [
    "loan['next_payment_date'].value_counts()"
   ]
  },
  {
   "cell_type": "code",
   "execution_count": null,
   "id": "b3b92eb0-08c3-411a-a96e-8f04de3f79b7",
   "metadata": {},
   "outputs": [],
   "source": []
  },
  {
   "cell_type": "code",
   "execution_count": 65,
   "id": "059f2f56-795e-4e2b-bdf5-a36e4f131dca",
   "metadata": {},
   "outputs": [
    {
     "data": {
      "text/plain": [
       "count                  38576\n",
       "unique                    14\n",
       "top       Debt consolidation\n",
       "freq                   18214\n",
       "Name: purpose, dtype: object"
      ]
     },
     "execution_count": 65,
     "metadata": {},
     "output_type": "execute_result"
    }
   ],
   "source": [
    "loan['purpose'].describe()"
   ]
  },
  {
   "cell_type": "code",
   "execution_count": 66,
   "id": "4d200a47-5ab7-449a-a8bd-cb424aaf1fac",
   "metadata": {},
   "outputs": [
    {
     "data": {
      "text/plain": [
       "array(['car', 'credit card', 'Debt consolidation', 'educational',\n",
       "       'home improvement', 'house', 'major purchase', 'medical', 'moving',\n",
       "       'other', 'renewable_energy', 'small business', 'vacation',\n",
       "       'wedding'], dtype=object)"
      ]
     },
     "execution_count": 66,
     "metadata": {},
     "output_type": "execute_result"
    }
   ],
   "source": [
    "loan['purpose'].unique()"
   ]
  },
  {
   "cell_type": "code",
   "execution_count": 67,
   "id": "93ab31ea-1e13-4d98-be8e-a4b2d68394b6",
   "metadata": {},
   "outputs": [
    {
     "data": {
      "text/plain": [
       "purpose\n",
       "Debt consolidation    18214\n",
       "credit card            4998\n",
       "other                  3824\n",
       "home improvement       2876\n",
       "major purchase         2110\n",
       "small business         1776\n",
       "car                    1497\n",
       "wedding                 928\n",
       "medical                 667\n",
       "moving                  559\n",
       "house                   366\n",
       "vacation                352\n",
       "educational             315\n",
       "renewable_energy         94\n",
       "Name: count, dtype: int64"
      ]
     },
     "execution_count": 67,
     "metadata": {},
     "output_type": "execute_result"
    }
   ],
   "source": [
    "loan['purpose'].value_counts()"
   ]
  },
  {
   "cell_type": "code",
   "execution_count": null,
   "id": "d15971f8-272a-4df2-b803-72ff8bc83cd2",
   "metadata": {},
   "outputs": [],
   "source": []
  },
  {
   "cell_type": "code",
   "execution_count": 68,
   "id": "0c2baaf8-0239-458d-b76e-555f900adbec",
   "metadata": {},
   "outputs": [
    {
     "data": {
      "text/plain": [
       "count     38576\n",
       "unique       35\n",
       "top          B3\n",
       "freq       2834\n",
       "Name: sub_grade, dtype: object"
      ]
     },
     "execution_count": 68,
     "metadata": {},
     "output_type": "execute_result"
    }
   ],
   "source": [
    "loan['sub_grade'].describe()"
   ]
  },
  {
   "cell_type": "code",
   "execution_count": 69,
   "id": "a0c41b82-2f07-4ce0-9f2f-7a6287f70b7d",
   "metadata": {},
   "outputs": [
    {
     "data": {
      "text/plain": [
       "array(['C4', 'E1', 'C5', 'B2', 'A1', 'C3', 'C2', 'A4', 'A5', 'B5', 'B4',\n",
       "       'B3', 'B1', 'D1', 'A2', 'A3', 'D4', 'D2', 'C1', 'D3', 'E3', 'F1',\n",
       "       'E2', 'E5', 'D5', 'E4', 'F2', 'G3', 'F3', 'G1', 'F4', 'G4', 'G2',\n",
       "       'F5', 'G5'], dtype=object)"
      ]
     },
     "execution_count": 69,
     "metadata": {},
     "output_type": "execute_result"
    }
   ],
   "source": [
    "loan['sub_grade'].unique()"
   ]
  },
  {
   "cell_type": "code",
   "execution_count": 70,
   "id": "901df4cd-d69c-4277-81b8-4500b41f36cb",
   "metadata": {},
   "outputs": [
    {
     "data": {
      "text/plain": [
       "sub_grade\n",
       "B3    2834\n",
       "A4    2803\n",
       "A5    2654\n",
       "B5    2644\n",
       "B4    2455\n",
       "C1    2089\n",
       "B2    1990\n",
       "C2    1972\n",
       "B1    1751\n",
       "A3    1740\n",
       "C3    1490\n",
       "A2    1440\n",
       "D2    1314\n",
       "C4    1202\n",
       "C5    1151\n",
       "D3    1144\n",
       "A1    1052\n",
       "D4     960\n",
       "D1     913\n",
       "D5     851\n",
       "E1     750\n",
       "E2     640\n",
       "E3     538\n",
       "E4     448\n",
       "E5     410\n",
       "F1     325\n",
       "F2     243\n",
       "F3     182\n",
       "F4     163\n",
       "F5     115\n",
       "G1     101\n",
       "G2      78\n",
       "G4      56\n",
       "G3      48\n",
       "G5      30\n",
       "Name: count, dtype: int64"
      ]
     },
     "execution_count": 70,
     "metadata": {},
     "output_type": "execute_result"
    }
   ],
   "source": [
    "loan['sub_grade'].value_counts()"
   ]
  },
  {
   "cell_type": "code",
   "execution_count": null,
   "id": "bb52a59d-cf71-4fb4-ae61-f0a945624d6b",
   "metadata": {},
   "outputs": [],
   "source": []
  },
  {
   "cell_type": "code",
   "execution_count": 71,
   "id": "3d16d657-4cdb-419d-b647-120800efa02f",
   "metadata": {},
   "outputs": [
    {
     "data": {
      "text/plain": [
       "count          38576\n",
       "unique             2\n",
       "top        36 months\n",
       "freq           28237\n",
       "Name: term, dtype: object"
      ]
     },
     "execution_count": 71,
     "metadata": {},
     "output_type": "execute_result"
    }
   ],
   "source": [
    "loan['term'].describe()"
   ]
  },
  {
   "cell_type": "code",
   "execution_count": 72,
   "id": "a1c395bb-7d9b-492b-ace1-07988a00a11c",
   "metadata": {},
   "outputs": [
    {
     "data": {
      "text/plain": [
       "array([' 60 months', ' 36 months'], dtype=object)"
      ]
     },
     "execution_count": 72,
     "metadata": {},
     "output_type": "execute_result"
    }
   ],
   "source": [
    "loan['term'].unique()"
   ]
  },
  {
   "cell_type": "code",
   "execution_count": 73,
   "id": "77967491-8d3a-4cec-a0ff-a296e6f59846",
   "metadata": {},
   "outputs": [
    {
     "data": {
      "text/plain": [
       "term\n",
       "36 months    28237\n",
       "60 months    10339\n",
       "Name: count, dtype: int64"
      ]
     },
     "execution_count": 73,
     "metadata": {},
     "output_type": "execute_result"
    }
   ],
   "source": [
    "loan['term'].value_counts()"
   ]
  },
  {
   "cell_type": "code",
   "execution_count": null,
   "id": "bd95490a-3770-4617-9091-e2cc478096f5",
   "metadata": {},
   "outputs": [],
   "source": []
  },
  {
   "cell_type": "code",
   "execution_count": 74,
   "id": "d3022b7d-05e4-49f4-9dbc-a8e219240d66",
   "metadata": {},
   "outputs": [
    {
     "data": {
      "text/plain": [
       "count            38576\n",
       "unique               3\n",
       "top       Not Verified\n",
       "freq             16464\n",
       "Name: verification_status, dtype: object"
      ]
     },
     "execution_count": 74,
     "metadata": {},
     "output_type": "execute_result"
    }
   ],
   "source": [
    "loan['verification_status'].describe()"
   ]
  },
  {
   "cell_type": "code",
   "execution_count": 75,
   "id": "0e208481-b607-4bfe-b00e-b999eef2abce",
   "metadata": {},
   "outputs": [
    {
     "data": {
      "text/plain": [
       "array(['Source Verified', 'Not Verified', 'Verified'], dtype=object)"
      ]
     },
     "execution_count": 75,
     "metadata": {},
     "output_type": "execute_result"
    }
   ],
   "source": [
    "loan['verification_status'].unique()"
   ]
  },
  {
   "cell_type": "code",
   "execution_count": 76,
   "id": "957b24b7-1abe-4e7e-8004-ebcc8666bf72",
   "metadata": {},
   "outputs": [
    {
     "data": {
      "text/plain": [
       "verification_status\n",
       "Not Verified       16464\n",
       "Verified           12335\n",
       "Source Verified     9777\n",
       "Name: count, dtype: int64"
      ]
     },
     "execution_count": 76,
     "metadata": {},
     "output_type": "execute_result"
    }
   ],
   "source": [
    "loan['verification_status'].value_counts()"
   ]
  },
  {
   "cell_type": "code",
   "execution_count": null,
   "id": "90d7601d-0b0b-48f9-9fba-0c656a24ba45",
   "metadata": {},
   "outputs": [],
   "source": []
  },
  {
   "cell_type": "markdown",
   "id": "3ab11b2c-5a30-47de-bc20-bb5a3fe9502a",
   "metadata": {
    "jp-MarkdownHeadingCollapsed": true
   },
   "source": [
    "# 2. Data Cleaning"
   ]
  },
  {
   "cell_type": "markdown",
   "id": "081331fb-7f0c-4b1f-b8ce-c93424e8637b",
   "metadata": {},
   "source": [
    "### missing values"
   ]
  },
  {
   "cell_type": "code",
   "execution_count": 77,
   "id": "5a66395a-3ecc-40a0-9345-0f497062f341",
   "metadata": {},
   "outputs": [
    {
     "data": {
      "text/plain": [
       "id                          0\n",
       "address_state               0\n",
       "application_type            0\n",
       "emp_length                  0\n",
       "emp_title                1438\n",
       "grade                       0\n",
       "home_ownership              0\n",
       "issue_date                  0\n",
       "last_credit_pull_date       0\n",
       "last_payment_date           0\n",
       "loan_status                 0\n",
       "next_payment_date           0\n",
       "member_id                   0\n",
       "purpose                     0\n",
       "sub_grade                   0\n",
       "term                        0\n",
       "verification_status         0\n",
       "annual_income               0\n",
       "dti                         0\n",
       "installment                 0\n",
       "int_rate                    0\n",
       "loan_amount                 0\n",
       "total_acc                   0\n",
       "total_payment               0\n",
       "dtype: int64"
      ]
     },
     "execution_count": 77,
     "metadata": {},
     "output_type": "execute_result"
    }
   ],
   "source": [
    "loan.isnull().sum()"
   ]
  },
  {
   "cell_type": "code",
   "execution_count": 78,
   "id": "52e6faad-77b2-4cf0-9ec8-d71689eed949",
   "metadata": {},
   "outputs": [
    {
     "data": {
      "text/plain": [
       "(7744, 31666, 31667)"
      ]
     },
     "execution_count": 78,
     "metadata": {},
     "output_type": "execute_result"
    }
   ],
   "source": [
    "7744,31666,31667"
   ]
  },
  {
   "cell_type": "code",
   "execution_count": 79,
   "id": "c17dd626-3328-4edb-a113-2cafd5d671e5",
   "metadata": {},
   "outputs": [],
   "source": [
    "loan.iloc[[7744,31666,31667],6]=[\"MORTGAGE\",\"MORTGAGE\",\"MORTGAGE\"]"
   ]
  },
  {
   "cell_type": "code",
   "execution_count": 80,
   "id": "bef04e73-ce47-457a-9ab2-2648badecf2d",
   "metadata": {},
   "outputs": [
    {
     "data": {
      "text/plain": [
       "7744     MORTGAGE\n",
       "31666    MORTGAGE\n",
       "31667    MORTGAGE\n",
       "Name: home_ownership, dtype: object"
      ]
     },
     "execution_count": 80,
     "metadata": {},
     "output_type": "execute_result"
    }
   ],
   "source": [
    "loan.iloc[[7744,31666,31667],6]"
   ]
  },
  {
   "cell_type": "code",
   "execution_count": 81,
   "id": "43b7ce0a-e951-4609-bff8-f248350fc232",
   "metadata": {},
   "outputs": [],
   "source": [
    "loan[\"emp_title\"].fillna(\"US Army\",inplace=True)"
   ]
  },
  {
   "cell_type": "code",
   "execution_count": 82,
   "id": "57d1f48c-6a4a-4c64-b735-aa4a77f1d4cb",
   "metadata": {},
   "outputs": [
    {
     "data": {
      "text/plain": [
       "id                       0\n",
       "address_state            0\n",
       "application_type         0\n",
       "emp_length               0\n",
       "emp_title                0\n",
       "grade                    0\n",
       "home_ownership           0\n",
       "issue_date               0\n",
       "last_credit_pull_date    0\n",
       "last_payment_date        0\n",
       "loan_status              0\n",
       "next_payment_date        0\n",
       "member_id                0\n",
       "purpose                  0\n",
       "sub_grade                0\n",
       "term                     0\n",
       "verification_status      0\n",
       "annual_income            0\n",
       "dti                      0\n",
       "installment              0\n",
       "int_rate                 0\n",
       "loan_amount              0\n",
       "total_acc                0\n",
       "total_payment            0\n",
       "dtype: int64"
      ]
     },
     "execution_count": 82,
     "metadata": {},
     "output_type": "execute_result"
    }
   ],
   "source": [
    "loan.isnull().sum()"
   ]
  },
  {
   "cell_type": "markdown",
   "id": "d30a5334-5dab-42b9-a645-1f7d87f892d7",
   "metadata": {},
   "source": [
    "### duplicates"
   ]
  },
  {
   "cell_type": "code",
   "execution_count": 83,
   "id": "55ba43e8-82c8-46ab-b4bf-cfcd454ece24",
   "metadata": {},
   "outputs": [
    {
     "data": {
      "text/plain": [
       "id                         0\n",
       "address_state              0\n",
       "application_type           0\n",
       "emp_length                 0\n",
       "emp_title                  0\n",
       "grade                      0\n",
       "home_ownership             0\n",
       "issue_date                 0\n",
       "last_credit_pull_date      0\n",
       "last_payment_date          0\n",
       "loan_status                0\n",
       "next_payment_date          0\n",
       "member_id                  0\n",
       "purpose                    0\n",
       "sub_grade                  0\n",
       "term                       0\n",
       "verification_status        0\n",
       "annual_income            0.0\n",
       "dti                      0.0\n",
       "installment              0.0\n",
       "int_rate                 0.0\n",
       "loan_amount                0\n",
       "total_acc                  0\n",
       "total_payment              0\n",
       "dtype: object"
      ]
     },
     "execution_count": 83,
     "metadata": {},
     "output_type": "execute_result"
    }
   ],
   "source": [
    "loan[loan.duplicated()].sum()"
   ]
  },
  {
   "cell_type": "code",
   "execution_count": null,
   "id": "129bcfbe-1202-47db-a8de-b7c5fa4cefba",
   "metadata": {},
   "outputs": [],
   "source": []
  },
  {
   "cell_type": "code",
   "execution_count": 84,
   "id": "829298f1-2086-49a9-91c3-426e0714d740",
   "metadata": {},
   "outputs": [],
   "source": [
    "loan[\"issue_date\"] = pd.to_datetime(loan[\"issue_date\"],format=\"%d-%m-%Y\")"
   ]
  },
  {
   "cell_type": "code",
   "execution_count": 85,
   "id": "fdf9ae7e-d38b-44e0-8f5f-6c3ce549cf78",
   "metadata": {},
   "outputs": [],
   "source": [
    "loan[\"issue_month\"]=loan[\"issue_date\"].dt.month"
   ]
  },
  {
   "cell_type": "code",
   "execution_count": null,
   "id": "a679e817-ce2e-4b44-96c3-67114c3bf3c2",
   "metadata": {},
   "outputs": [],
   "source": []
  },
  {
   "cell_type": "code",
   "execution_count": 86,
   "id": "d41adc25-dbd1-4c4e-9040-686bd64c3cc1",
   "metadata": {},
   "outputs": [],
   "source": [
    "loan[\"last_payment_date\"] = pd.to_datetime(loan[\"last_payment_date\"],format=\"%d-%m-%Y\")"
   ]
  },
  {
   "cell_type": "code",
   "execution_count": 87,
   "id": "8225f135-7a28-4af9-a7e2-ff047fd13e1e",
   "metadata": {},
   "outputs": [],
   "source": [
    "loan[\"lp_month\"]=loan[\"last_payment_date\"].dt.month"
   ]
  },
  {
   "cell_type": "code",
   "execution_count": null,
   "id": "6232d294-6b56-4762-9243-4d89f99c5f0e",
   "metadata": {},
   "outputs": [],
   "source": []
  },
  {
   "cell_type": "code",
   "execution_count": 88,
   "id": "5a967ba1-aaae-419b-ba3a-18ba617ef3bc",
   "metadata": {},
   "outputs": [],
   "source": [
    "loan[\"next_payment_date\"] = pd.to_datetime(loan[\"next_payment_date\"],format=\"%d-%m-%Y\")"
   ]
  },
  {
   "cell_type": "code",
   "execution_count": 89,
   "id": "8ec5fd4d-5f3a-4b65-a049-1e6145c8c611",
   "metadata": {},
   "outputs": [],
   "source": [
    "loan[\"Np_month\"]=loan[\"next_payment_date\"].dt.month"
   ]
  },
  {
   "cell_type": "code",
   "execution_count": null,
   "id": "e87d68c3-ff96-411b-8787-d52bcfb5e62f",
   "metadata": {},
   "outputs": [],
   "source": []
  },
  {
   "cell_type": "code",
   "execution_count": null,
   "id": "84a67e3c-a67f-410b-9fb5-cce072e7f1f2",
   "metadata": {},
   "outputs": [],
   "source": []
  },
  {
   "cell_type": "code",
   "execution_count": 90,
   "id": "5f3fb8cd-e359-49e9-82b8-e004c53e39c7",
   "metadata": {},
   "outputs": [],
   "source": [
    "loan.replace({\"< 1 year\":\"1 years\",\"1 year\":\"1 years\",\"10+ years\":\"10 years\"},inplace=True)"
   ]
  },
  {
   "cell_type": "code",
   "execution_count": 91,
   "id": "307d1916-c0b8-4d61-9d98-64d06abc2779",
   "metadata": {},
   "outputs": [
    {
     "data": {
      "text/plain": [
       "array(['1 years', '9 years', '4 years', '10 years', '3 years', '5 years',\n",
       "       '6 years', '2 years', '7 years', '8 years'], dtype=object)"
      ]
     },
     "execution_count": 91,
     "metadata": {},
     "output_type": "execute_result"
    }
   ],
   "source": [
    "loan[\"emp_length\"].unique()"
   ]
  },
  {
   "cell_type": "code",
   "execution_count": null,
   "id": "d544a8fe-757e-4cd1-96d5-1bece5c7f4f8",
   "metadata": {},
   "outputs": [],
   "source": []
  },
  {
   "cell_type": "code",
   "execution_count": 92,
   "id": "a61d9f1d-d356-44ba-bbb6-9f31d2f44847",
   "metadata": {},
   "outputs": [],
   "source": [
    "loan.replace({\"1 years\":\"1\",\"2 years\":\"2\",\"3 years\":\"3\",\"4 years\":\"4\",\"5 years\":\"5\",\"6 years\":\"6\",\"7 years\":\"7\",\"8 years\":\"8\",\"9 years\":\"9\",\"10 years\":\"10\"},inplace=True)"
   ]
  },
  {
   "cell_type": "markdown",
   "id": "2f07c840-7f49-411d-a75d-b646c279b7da",
   "metadata": {},
   "source": [
    "# 3. Analysis"
   ]
  },
  {
   "cell_type": "code",
   "execution_count": 93,
   "id": "6a0c25b1-706b-4a63-a4e9-2470a21eae38",
   "metadata": {},
   "outputs": [
    {
     "data": {
      "text/html": [
       "<div>\n",
       "<style scoped>\n",
       "    .dataframe tbody tr th:only-of-type {\n",
       "        vertical-align: middle;\n",
       "    }\n",
       "\n",
       "    .dataframe tbody tr th {\n",
       "        vertical-align: top;\n",
       "    }\n",
       "\n",
       "    .dataframe thead th {\n",
       "        text-align: right;\n",
       "    }\n",
       "</style>\n",
       "<table border=\"1\" class=\"dataframe\">\n",
       "  <thead>\n",
       "    <tr style=\"text-align: right;\">\n",
       "      <th></th>\n",
       "      <th>id</th>\n",
       "      <th>address_state</th>\n",
       "      <th>application_type</th>\n",
       "      <th>emp_length</th>\n",
       "      <th>emp_title</th>\n",
       "      <th>grade</th>\n",
       "      <th>home_ownership</th>\n",
       "      <th>issue_date</th>\n",
       "      <th>last_credit_pull_date</th>\n",
       "      <th>last_payment_date</th>\n",
       "      <th>loan_status</th>\n",
       "      <th>next_payment_date</th>\n",
       "      <th>member_id</th>\n",
       "      <th>purpose</th>\n",
       "      <th>sub_grade</th>\n",
       "      <th>term</th>\n",
       "      <th>verification_status</th>\n",
       "      <th>annual_income</th>\n",
       "      <th>dti</th>\n",
       "      <th>installment</th>\n",
       "      <th>int_rate</th>\n",
       "      <th>loan_amount</th>\n",
       "      <th>total_acc</th>\n",
       "      <th>total_payment</th>\n",
       "      <th>issue_month</th>\n",
       "      <th>lp_month</th>\n",
       "      <th>Np_month</th>\n",
       "    </tr>\n",
       "  </thead>\n",
       "  <tbody>\n",
       "    <tr>\n",
       "      <th>0</th>\n",
       "      <td>1077430</td>\n",
       "      <td>GA</td>\n",
       "      <td>INDIVIDUAL</td>\n",
       "      <td>1</td>\n",
       "      <td>Ryder</td>\n",
       "      <td>C</td>\n",
       "      <td>RENT</td>\n",
       "      <td>2021-02-11</td>\n",
       "      <td>13-09-2021</td>\n",
       "      <td>2021-04-13</td>\n",
       "      <td>Charged Off</td>\n",
       "      <td>2021-05-13</td>\n",
       "      <td>1314167</td>\n",
       "      <td>car</td>\n",
       "      <td>C4</td>\n",
       "      <td>60 months</td>\n",
       "      <td>Source Verified</td>\n",
       "      <td>30000.0</td>\n",
       "      <td>0.0100</td>\n",
       "      <td>59.83</td>\n",
       "      <td>0.1527</td>\n",
       "      <td>2500</td>\n",
       "      <td>4</td>\n",
       "      <td>1009</td>\n",
       "      <td>2</td>\n",
       "      <td>4</td>\n",
       "      <td>5</td>\n",
       "    </tr>\n",
       "    <tr>\n",
       "      <th>1</th>\n",
       "      <td>1072053</td>\n",
       "      <td>CA</td>\n",
       "      <td>INDIVIDUAL</td>\n",
       "      <td>9</td>\n",
       "      <td>MKC Accounting</td>\n",
       "      <td>E</td>\n",
       "      <td>RENT</td>\n",
       "      <td>2021-01-01</td>\n",
       "      <td>14-12-2021</td>\n",
       "      <td>2021-01-15</td>\n",
       "      <td>Fully Paid</td>\n",
       "      <td>2021-02-15</td>\n",
       "      <td>1288686</td>\n",
       "      <td>car</td>\n",
       "      <td>E1</td>\n",
       "      <td>36 months</td>\n",
       "      <td>Source Verified</td>\n",
       "      <td>48000.0</td>\n",
       "      <td>0.0535</td>\n",
       "      <td>109.43</td>\n",
       "      <td>0.1864</td>\n",
       "      <td>3000</td>\n",
       "      <td>4</td>\n",
       "      <td>3939</td>\n",
       "      <td>1</td>\n",
       "      <td>1</td>\n",
       "      <td>2</td>\n",
       "    </tr>\n",
       "    <tr>\n",
       "      <th>2</th>\n",
       "      <td>1069243</td>\n",
       "      <td>CA</td>\n",
       "      <td>INDIVIDUAL</td>\n",
       "      <td>4</td>\n",
       "      <td>Chemat Technology Inc</td>\n",
       "      <td>C</td>\n",
       "      <td>RENT</td>\n",
       "      <td>2021-01-05</td>\n",
       "      <td>12-12-2021</td>\n",
       "      <td>2021-01-09</td>\n",
       "      <td>Charged Off</td>\n",
       "      <td>2021-02-09</td>\n",
       "      <td>1304116</td>\n",
       "      <td>car</td>\n",
       "      <td>C5</td>\n",
       "      <td>36 months</td>\n",
       "      <td>Not Verified</td>\n",
       "      <td>50000.0</td>\n",
       "      <td>0.2088</td>\n",
       "      <td>421.65</td>\n",
       "      <td>0.1596</td>\n",
       "      <td>12000</td>\n",
       "      <td>11</td>\n",
       "      <td>3522</td>\n",
       "      <td>1</td>\n",
       "      <td>1</td>\n",
       "      <td>2</td>\n",
       "    </tr>\n",
       "    <tr>\n",
       "      <th>3</th>\n",
       "      <td>1041756</td>\n",
       "      <td>TX</td>\n",
       "      <td>INDIVIDUAL</td>\n",
       "      <td>1</td>\n",
       "      <td>barnes distribution</td>\n",
       "      <td>B</td>\n",
       "      <td>MORTGAGE</td>\n",
       "      <td>2021-02-25</td>\n",
       "      <td>12-12-2021</td>\n",
       "      <td>2021-03-12</td>\n",
       "      <td>Fully Paid</td>\n",
       "      <td>2021-04-12</td>\n",
       "      <td>1272024</td>\n",
       "      <td>car</td>\n",
       "      <td>B2</td>\n",
       "      <td>60 months</td>\n",
       "      <td>Source Verified</td>\n",
       "      <td>42000.0</td>\n",
       "      <td>0.0540</td>\n",
       "      <td>97.06</td>\n",
       "      <td>0.1065</td>\n",
       "      <td>4500</td>\n",
       "      <td>9</td>\n",
       "      <td>4911</td>\n",
       "      <td>2</td>\n",
       "      <td>3</td>\n",
       "      <td>4</td>\n",
       "    </tr>\n",
       "    <tr>\n",
       "      <th>4</th>\n",
       "      <td>1068350</td>\n",
       "      <td>IL</td>\n",
       "      <td>INDIVIDUAL</td>\n",
       "      <td>10</td>\n",
       "      <td>ho</td>\n",
       "      <td>A</td>\n",
       "      <td>MORTGAGE</td>\n",
       "      <td>2021-01-01</td>\n",
       "      <td>14-12-2021</td>\n",
       "      <td>2021-01-15</td>\n",
       "      <td>Fully Paid</td>\n",
       "      <td>2021-02-15</td>\n",
       "      <td>1302971</td>\n",
       "      <td>car</td>\n",
       "      <td>A1</td>\n",
       "      <td>36 months</td>\n",
       "      <td>Verified</td>\n",
       "      <td>83000.0</td>\n",
       "      <td>0.0231</td>\n",
       "      <td>106.53</td>\n",
       "      <td>0.0603</td>\n",
       "      <td>3500</td>\n",
       "      <td>28</td>\n",
       "      <td>3835</td>\n",
       "      <td>1</td>\n",
       "      <td>1</td>\n",
       "      <td>2</td>\n",
       "    </tr>\n",
       "  </tbody>\n",
       "</table>\n",
       "</div>"
      ],
      "text/plain": [
       "        id address_state application_type emp_length              emp_title  \\\n",
       "0  1077430            GA       INDIVIDUAL          1                  Ryder   \n",
       "1  1072053            CA       INDIVIDUAL          9         MKC Accounting   \n",
       "2  1069243            CA       INDIVIDUAL          4  Chemat Technology Inc   \n",
       "3  1041756            TX       INDIVIDUAL          1    barnes distribution   \n",
       "4  1068350            IL       INDIVIDUAL         10                     ho   \n",
       "\n",
       "  grade home_ownership issue_date last_credit_pull_date last_payment_date  \\\n",
       "0     C           RENT 2021-02-11            13-09-2021        2021-04-13   \n",
       "1     E           RENT 2021-01-01            14-12-2021        2021-01-15   \n",
       "2     C           RENT 2021-01-05            12-12-2021        2021-01-09   \n",
       "3     B       MORTGAGE 2021-02-25            12-12-2021        2021-03-12   \n",
       "4     A       MORTGAGE 2021-01-01            14-12-2021        2021-01-15   \n",
       "\n",
       "   loan_status next_payment_date  member_id purpose sub_grade        term  \\\n",
       "0  Charged Off        2021-05-13    1314167     car        C4   60 months   \n",
       "1   Fully Paid        2021-02-15    1288686     car        E1   36 months   \n",
       "2  Charged Off        2021-02-09    1304116     car        C5   36 months   \n",
       "3   Fully Paid        2021-04-12    1272024     car        B2   60 months   \n",
       "4   Fully Paid        2021-02-15    1302971     car        A1   36 months   \n",
       "\n",
       "  verification_status  annual_income     dti  installment  int_rate  \\\n",
       "0     Source Verified        30000.0  0.0100        59.83    0.1527   \n",
       "1     Source Verified        48000.0  0.0535       109.43    0.1864   \n",
       "2        Not Verified        50000.0  0.2088       421.65    0.1596   \n",
       "3     Source Verified        42000.0  0.0540        97.06    0.1065   \n",
       "4            Verified        83000.0  0.0231       106.53    0.0603   \n",
       "\n",
       "   loan_amount  total_acc  total_payment  issue_month  lp_month  Np_month  \n",
       "0         2500          4           1009            2         4         5  \n",
       "1         3000          4           3939            1         1         2  \n",
       "2        12000         11           3522            1         1         2  \n",
       "3         4500          9           4911            2         3         4  \n",
       "4         3500         28           3835            1         1         2  "
      ]
     },
     "execution_count": 93,
     "metadata": {},
     "output_type": "execute_result"
    }
   ],
   "source": [
    "loan.head(5)"
   ]
  },
  {
   "cell_type": "code",
   "execution_count": null,
   "id": "32d9b164-4a50-444d-9b37-bab73212717e",
   "metadata": {},
   "outputs": [],
   "source": []
  },
  {
   "cell_type": "markdown",
   "id": "df0328be-902a-4d28-a43b-8b21d898582b",
   "metadata": {},
   "source": [
    "### 1. What is the total number of applications registered by specific period and by MTD and monitor the MOM ?\n"
   ]
  },
  {
   "cell_type": "code",
   "execution_count": 94,
   "id": "4cd84d4b-4a26-47cc-ab27-08aae35bab5e",
   "metadata": {},
   "outputs": [],
   "source": [
    "total_loan= loan.groupby(loan[\"application_type\"])[\"issue_month\"].value_counts()"
   ]
  },
  {
   "cell_type": "code",
   "execution_count": 95,
   "id": "cc609b09-1b8a-4037-aa0c-6c9df5a6683a",
   "metadata": {},
   "outputs": [
    {
     "data": {
      "text/plain": [
       "application_type  issue_month\n",
       "INDIVIDUAL        12             4314\n",
       "                  11             4035\n",
       "                  10             3796\n",
       "                  9              3536\n",
       "                  8              3441\n",
       "                  7              3366\n",
       "                  6              3184\n",
       "                  5              2911\n",
       "                  4              2755\n",
       "                  3              2627\n",
       "                  1              2332\n",
       "                  2              2279\n",
       "Name: count, dtype: int64"
      ]
     },
     "execution_count": 95,
     "metadata": {},
     "output_type": "execute_result"
    }
   ],
   "source": [
    "total_loan"
   ]
  },
  {
   "cell_type": "code",
   "execution_count": 96,
   "id": "8952e2fe-aa94-4a4b-b03f-6afff7d11ebb",
   "metadata": {},
   "outputs": [
    {
     "data": {
      "text/plain": [
       "count          38576\n",
       "unique             1\n",
       "top       INDIVIDUAL\n",
       "freq           38576\n",
       "Name: application_type, dtype: object"
      ]
     },
     "execution_count": 96,
     "metadata": {},
     "output_type": "execute_result"
    }
   ],
   "source": [
    "loan[\"application_type\"].describe()"
   ]
  },
  {
   "cell_type": "code",
   "execution_count": 97,
   "id": "0ba0fff7-8485-4de0-9b8d-604e3b7bd360",
   "metadata": {},
   "outputs": [
    {
     "data": {
      "text/plain": [
       "address_state  application_type\n",
       "AK             INDIVIDUAL            78\n",
       "AL             INDIVIDUAL           432\n",
       "AR             INDIVIDUAL           236\n",
       "AZ             INDIVIDUAL           833\n",
       "CA             INDIVIDUAL          6894\n",
       "CO             INDIVIDUAL           770\n",
       "CT             INDIVIDUAL           730\n",
       "DC             INDIVIDUAL           214\n",
       "DE             INDIVIDUAL           110\n",
       "FL             INDIVIDUAL          2773\n",
       "GA             INDIVIDUAL          1355\n",
       "HI             INDIVIDUAL           170\n",
       "IA             INDIVIDUAL             5\n",
       "ID             INDIVIDUAL             6\n",
       "IL             INDIVIDUAL          1486\n",
       "IN             INDIVIDUAL             9\n",
       "KS             INDIVIDUAL           260\n",
       "KY             INDIVIDUAL           320\n",
       "LA             INDIVIDUAL           426\n",
       "MA             INDIVIDUAL          1310\n",
       "MD             INDIVIDUAL          1027\n",
       "ME             INDIVIDUAL             3\n",
       "MI             INDIVIDUAL           685\n",
       "MN             INDIVIDUAL           592\n",
       "MO             INDIVIDUAL           660\n",
       "MS             INDIVIDUAL            19\n",
       "MT             INDIVIDUAL            79\n",
       "NC             INDIVIDUAL           759\n",
       "NE             INDIVIDUAL             5\n",
       "NH             INDIVIDUAL           161\n",
       "NJ             INDIVIDUAL          1822\n",
       "NM             INDIVIDUAL           183\n",
       "NV             INDIVIDUAL           482\n",
       "NY             INDIVIDUAL          3701\n",
       "OH             INDIVIDUAL          1188\n",
       "OK             INDIVIDUAL           293\n",
       "OR             INDIVIDUAL           436\n",
       "PA             INDIVIDUAL          1482\n",
       "RI             INDIVIDUAL           196\n",
       "SC             INDIVIDUAL           464\n",
       "SD             INDIVIDUAL            63\n",
       "TN             INDIVIDUAL            17\n",
       "TX             INDIVIDUAL          2664\n",
       "UT             INDIVIDUAL           252\n",
       "VA             INDIVIDUAL          1375\n",
       "VT             INDIVIDUAL            54\n",
       "WA             INDIVIDUAL           805\n",
       "WI             INDIVIDUAL           446\n",
       "WV             INDIVIDUAL           167\n",
       "WY             INDIVIDUAL            79\n",
       "Name: count, dtype: int64"
      ]
     },
     "execution_count": 97,
     "metadata": {},
     "output_type": "execute_result"
    }
   ],
   "source": [
    "loan.groupby(loan[\"address_state\"])[\"application_type\"].value_counts()"
   ]
  },
  {
   "cell_type": "code",
   "execution_count": null,
   "id": "b7cd15fe-8e36-4166-b434-ac85ac13dbfb",
   "metadata": {},
   "outputs": [],
   "source": []
  },
  {
   "cell_type": "markdown",
   "id": "6ebf0954-7899-436b-9843-3c934a8e0259",
   "metadata": {},
   "source": [
    "#### Plot"
   ]
  },
  {
   "cell_type": "code",
   "execution_count": 98,
   "id": "01d8dede-69a3-4bba-9a44-a84e6d159e76",
   "metadata": {},
   "outputs": [
    {
     "data": {
      "text/plain": [
       "<Axes: xlabel='issue_month', ylabel='Count'>"
      ]
     },
     "execution_count": 98,
     "metadata": {},
     "output_type": "execute_result"
    },
    {
     "data": {
      "image/png": "[encoded data removed]",
      "text/plain": [
       "<Figure size 640x480 with 1 Axes>"
      ]
     },
     "metadata": {},
     "output_type": "display_data"
    }
   ],
   "source": [
    "sns.histplot(loan[\"issue_month\"])"
   ]
  },
  {
   "cell_type": "markdown",
   "id": "d6a0e235-bbdd-415f-bc16-633eedf824ff",
   "metadata": {},
   "source": [
    "#### -->Obervation"
   ]
  },
  {
   "cell_type": "markdown",
   "id": "1abfa9a8-88c0-4309-b9f8-f0c3580d17d2",
   "metadata": {},
   "source": [
    " - Here i can see that the total number of application register in year 2021 is 38576 .\n",
    " - In december maximum number of applications are registered with 4314 and in february minimum number of applications are registered with 2279.\n",
    " - With this plot i have conclude that after february ,month by month no of applications are increased."
   ]
  },
  {
   "cell_type": "code",
   "execution_count": null,
   "id": "ffb27ad9-5d2f-4aca-9c98-087d744ddbd8",
   "metadata": {},
   "outputs": [],
   "source": []
  },
  {
   "cell_type": "markdown",
   "id": "08f8f225-9169-4bb5-aca5-11abb121093d",
   "metadata": {},
   "source": [
    "### 2. how many applications registered and average applications registered by state and monitor he MOM?"
   ]
  },
  {
   "cell_type": "code",
   "execution_count": 99,
   "id": "a0dc991e-9d09-4d4b-a3ff-a8b348ed893c",
   "metadata": {},
   "outputs": [],
   "source": [
    "state_loan = loan.groupby(loan[\"application_type\"])[\"address_state\"].value_counts()"
   ]
  },
  {
   "cell_type": "code",
   "execution_count": 100,
   "id": "b2a0c9ef-69a7-4b5a-abf1-af811ec070d7",
   "metadata": {},
   "outputs": [
    {
     "data": {
      "text/plain": [
       "application_type  address_state\n",
       "INDIVIDUAL        CA               6894\n",
       "                  NY               3701\n",
       "                  FL               2773\n",
       "                  TX               2664\n",
       "                  NJ               1822\n",
       "                  IL               1486\n",
       "                  PA               1482\n",
       "                  VA               1375\n",
       "                  GA               1355\n",
       "                  MA               1310\n",
       "                  OH               1188\n",
       "                  MD               1027\n",
       "                  AZ                833\n",
       "                  WA                805\n",
       "                  CO                770\n",
       "                  NC                759\n",
       "                  CT                730\n",
       "                  MI                685\n",
       "                  MO                660\n",
       "                  MN                592\n",
       "                  NV                482\n",
       "                  SC                464\n",
       "                  WI                446\n",
       "                  OR                436\n",
       "                  AL                432\n",
       "                  LA                426\n",
       "                  KY                320\n",
       "                  OK                293\n",
       "                  KS                260\n",
       "                  UT                252\n",
       "                  AR                236\n",
       "                  DC                214\n",
       "                  RI                196\n",
       "                  NM                183\n",
       "                  HI                170\n",
       "                  WV                167\n",
       "                  NH                161\n",
       "                  DE                110\n",
       "                  MT                 79\n",
       "                  WY                 79\n",
       "                  AK                 78\n",
       "                  SD                 63\n",
       "                  VT                 54\n",
       "                  MS                 19\n",
       "                  TN                 17\n",
       "                  IN                  9\n",
       "                  ID                  6\n",
       "                  IA                  5\n",
       "                  NE                  5\n",
       "                  ME                  3\n",
       "Name: count, dtype: int64"
      ]
     },
     "execution_count": 100,
     "metadata": {},
     "output_type": "execute_result"
    }
   ],
   "source": [
    "state_loan"
   ]
  },
  {
   "cell_type": "markdown",
   "id": "1b62579d-1670-4c2c-8086-524435c686ba",
   "metadata": {},
   "source": [
    "#### Plot"
   ]
  },
  {
   "cell_type": "code",
   "execution_count": 101,
   "id": "d6a46a5b-ef23-41cd-8f4b-bbeb5809f8ba",
   "metadata": {},
   "outputs": [
    {
     "data": {
      "image/png": "[encoded data removed]",
      "text/plain": [
       "<Figure size 640x480 with 1 Axes>"
      ]
     },
     "metadata": {},
     "output_type": "display_data"
    }
   ],
   "source": [
    "state=[\"CA\",\"NY\",\"FL\",\"Other states\"]\n",
    "plt.pie([6894,3701,2773,25208],labels=state,autopct=\"%1.1f%%\",explode=[0.1,0,0,0])\n",
    "plt.show()"
   ]
  },
  {
   "cell_type": "code",
   "execution_count": null,
   "id": "718dfd61-33f6-427f-bcf9-6e115ed59302",
   "metadata": {},
   "outputs": [],
   "source": []
  },
  {
   "cell_type": "markdown",
   "id": "cb8d5590-6f09-4ef1-b6de-9e28b0ef98a1",
   "metadata": {},
   "source": [
    "#### -->Observation"
   ]
  },
  {
   "cell_type": "markdown",
   "id": "612b8b7f-d8c7-4f6a-9f74-6331ffefae79",
   "metadata": {},
   "source": [
    " - Here i can observe that most no of applications are registered from state CA with 6894 and less no of application are registered from ME with 3."
   ]
  },
  {
   "cell_type": "code",
   "execution_count": null,
   "id": "2cd1f748-ebc7-41a3-8b0d-ce460a5a4223",
   "metadata": {},
   "outputs": [],
   "source": []
  },
  {
   "cell_type": "markdown",
   "id": "5c8eac4d-2239-437e-b8cc-c921cbef2066",
   "metadata": {},
   "source": [
    "### 3. State wise borrower's home ownership."
   ]
  },
  {
   "cell_type": "code",
   "execution_count": 102,
   "id": "97407850-6a47-4195-8737-adb699f68a7e",
   "metadata": {},
   "outputs": [
    {
     "data": {
      "text/html": [
       "<div>\n",
       "<style scoped>\n",
       "    .dataframe tbody tr th:only-of-type {\n",
       "        vertical-align: middle;\n",
       "    }\n",
       "\n",
       "    .dataframe tbody tr th {\n",
       "        vertical-align: top;\n",
       "    }\n",
       "\n",
       "    .dataframe thead th {\n",
       "        text-align: right;\n",
       "    }\n",
       "</style>\n",
       "<table border=\"1\" class=\"dataframe\">\n",
       "  <thead>\n",
       "    <tr style=\"text-align: right;\">\n",
       "      <th>address_state</th>\n",
       "      <th>AK</th>\n",
       "      <th>AL</th>\n",
       "      <th>AR</th>\n",
       "      <th>AZ</th>\n",
       "      <th>CA</th>\n",
       "      <th>CO</th>\n",
       "      <th>CT</th>\n",
       "      <th>DC</th>\n",
       "      <th>DE</th>\n",
       "      <th>FL</th>\n",
       "      <th>GA</th>\n",
       "      <th>HI</th>\n",
       "      <th>IA</th>\n",
       "      <th>ID</th>\n",
       "      <th>IL</th>\n",
       "      <th>IN</th>\n",
       "      <th>KS</th>\n",
       "      <th>KY</th>\n",
       "      <th>LA</th>\n",
       "      <th>MA</th>\n",
       "      <th>MD</th>\n",
       "      <th>ME</th>\n",
       "      <th>MI</th>\n",
       "      <th>MN</th>\n",
       "      <th>MO</th>\n",
       "      <th>MS</th>\n",
       "      <th>MT</th>\n",
       "      <th>NC</th>\n",
       "      <th>NE</th>\n",
       "      <th>NH</th>\n",
       "      <th>NJ</th>\n",
       "      <th>NM</th>\n",
       "      <th>NV</th>\n",
       "      <th>NY</th>\n",
       "      <th>OH</th>\n",
       "      <th>OK</th>\n",
       "      <th>OR</th>\n",
       "      <th>PA</th>\n",
       "      <th>RI</th>\n",
       "      <th>SC</th>\n",
       "      <th>SD</th>\n",
       "      <th>TN</th>\n",
       "      <th>TX</th>\n",
       "      <th>UT</th>\n",
       "      <th>VA</th>\n",
       "      <th>VT</th>\n",
       "      <th>WA</th>\n",
       "      <th>WI</th>\n",
       "      <th>WV</th>\n",
       "      <th>WY</th>\n",
       "    </tr>\n",
       "    <tr>\n",
       "      <th>home_ownership</th>\n",
       "      <th></th>\n",
       "      <th></th>\n",
       "      <th></th>\n",
       "      <th></th>\n",
       "      <th></th>\n",
       "      <th></th>\n",
       "      <th></th>\n",
       "      <th></th>\n",
       "      <th></th>\n",
       "      <th></th>\n",
       "      <th></th>\n",
       "      <th></th>\n",
       "      <th></th>\n",
       "      <th></th>\n",
       "      <th></th>\n",
       "      <th></th>\n",
       "      <th></th>\n",
       "      <th></th>\n",
       "      <th></th>\n",
       "      <th></th>\n",
       "      <th></th>\n",
       "      <th></th>\n",
       "      <th></th>\n",
       "      <th></th>\n",
       "      <th></th>\n",
       "      <th></th>\n",
       "      <th></th>\n",
       "      <th></th>\n",
       "      <th></th>\n",
       "      <th></th>\n",
       "      <th></th>\n",
       "      <th></th>\n",
       "      <th></th>\n",
       "      <th></th>\n",
       "      <th></th>\n",
       "      <th></th>\n",
       "      <th></th>\n",
       "      <th></th>\n",
       "      <th></th>\n",
       "      <th></th>\n",
       "      <th></th>\n",
       "      <th></th>\n",
       "      <th></th>\n",
       "      <th></th>\n",
       "      <th></th>\n",
       "      <th></th>\n",
       "      <th></th>\n",
       "      <th></th>\n",
       "      <th></th>\n",
       "      <th></th>\n",
       "    </tr>\n",
       "  </thead>\n",
       "  <tbody>\n",
       "    <tr>\n",
       "      <th>MORTGAGE</th>\n",
       "      <td>45</td>\n",
       "      <td>278</td>\n",
       "      <td>157</td>\n",
       "      <td>467</td>\n",
       "      <td>2186</td>\n",
       "      <td>388</td>\n",
       "      <td>331</td>\n",
       "      <td>55</td>\n",
       "      <td>64</td>\n",
       "      <td>1306</td>\n",
       "      <td>827</td>\n",
       "      <td>47</td>\n",
       "      <td>2</td>\n",
       "      <td>3</td>\n",
       "      <td>724</td>\n",
       "      <td>4</td>\n",
       "      <td>148</td>\n",
       "      <td>204</td>\n",
       "      <td>229</td>\n",
       "      <td>492</td>\n",
       "      <td>496</td>\n",
       "      <td>0</td>\n",
       "      <td>434</td>\n",
       "      <td>322</td>\n",
       "      <td>409</td>\n",
       "      <td>8</td>\n",
       "      <td>41</td>\n",
       "      <td>441</td>\n",
       "      <td>3</td>\n",
       "      <td>83</td>\n",
       "      <td>630</td>\n",
       "      <td>99</td>\n",
       "      <td>256</td>\n",
       "      <td>848</td>\n",
       "      <td>664</td>\n",
       "      <td>192</td>\n",
       "      <td>177</td>\n",
       "      <td>700</td>\n",
       "      <td>98</td>\n",
       "      <td>281</td>\n",
       "      <td>40</td>\n",
       "      <td>7</td>\n",
       "      <td>1445</td>\n",
       "      <td>156</td>\n",
       "      <td>651</td>\n",
       "      <td>24</td>\n",
       "      <td>356</td>\n",
       "      <td>235</td>\n",
       "      <td>100</td>\n",
       "      <td>48</td>\n",
       "    </tr>\n",
       "    <tr>\n",
       "      <th>OTHER</th>\n",
       "      <td>0</td>\n",
       "      <td>0</td>\n",
       "      <td>1</td>\n",
       "      <td>5</td>\n",
       "      <td>21</td>\n",
       "      <td>5</td>\n",
       "      <td>1</td>\n",
       "      <td>4</td>\n",
       "      <td>0</td>\n",
       "      <td>4</td>\n",
       "      <td>6</td>\n",
       "      <td>0</td>\n",
       "      <td>0</td>\n",
       "      <td>0</td>\n",
       "      <td>3</td>\n",
       "      <td>0</td>\n",
       "      <td>2</td>\n",
       "      <td>0</td>\n",
       "      <td>1</td>\n",
       "      <td>4</td>\n",
       "      <td>2</td>\n",
       "      <td>0</td>\n",
       "      <td>2</td>\n",
       "      <td>1</td>\n",
       "      <td>1</td>\n",
       "      <td>1</td>\n",
       "      <td>1</td>\n",
       "      <td>1</td>\n",
       "      <td>0</td>\n",
       "      <td>0</td>\n",
       "      <td>3</td>\n",
       "      <td>0</td>\n",
       "      <td>1</td>\n",
       "      <td>7</td>\n",
       "      <td>2</td>\n",
       "      <td>0</td>\n",
       "      <td>1</td>\n",
       "      <td>1</td>\n",
       "      <td>1</td>\n",
       "      <td>1</td>\n",
       "      <td>0</td>\n",
       "      <td>0</td>\n",
       "      <td>6</td>\n",
       "      <td>0</td>\n",
       "      <td>6</td>\n",
       "      <td>2</td>\n",
       "      <td>0</td>\n",
       "      <td>1</td>\n",
       "      <td>0</td>\n",
       "      <td>0</td>\n",
       "    </tr>\n",
       "    <tr>\n",
       "      <th>OWN</th>\n",
       "      <td>6</td>\n",
       "      <td>60</td>\n",
       "      <td>22</td>\n",
       "      <td>44</td>\n",
       "      <td>367</td>\n",
       "      <td>31</td>\n",
       "      <td>60</td>\n",
       "      <td>12</td>\n",
       "      <td>9</td>\n",
       "      <td>240</td>\n",
       "      <td>93</td>\n",
       "      <td>13</td>\n",
       "      <td>1</td>\n",
       "      <td>1</td>\n",
       "      <td>93</td>\n",
       "      <td>0</td>\n",
       "      <td>29</td>\n",
       "      <td>30</td>\n",
       "      <td>48</td>\n",
       "      <td>99</td>\n",
       "      <td>71</td>\n",
       "      <td>0</td>\n",
       "      <td>65</td>\n",
       "      <td>41</td>\n",
       "      <td>48</td>\n",
       "      <td>2</td>\n",
       "      <td>8</td>\n",
       "      <td>49</td>\n",
       "      <td>0</td>\n",
       "      <td>15</td>\n",
       "      <td>165</td>\n",
       "      <td>21</td>\n",
       "      <td>15</td>\n",
       "      <td>325</td>\n",
       "      <td>92</td>\n",
       "      <td>25</td>\n",
       "      <td>15</td>\n",
       "      <td>142</td>\n",
       "      <td>9</td>\n",
       "      <td>47</td>\n",
       "      <td>5</td>\n",
       "      <td>2</td>\n",
       "      <td>239</td>\n",
       "      <td>6</td>\n",
       "      <td>90</td>\n",
       "      <td>2</td>\n",
       "      <td>30</td>\n",
       "      <td>20</td>\n",
       "      <td>23</td>\n",
       "      <td>8</td>\n",
       "    </tr>\n",
       "    <tr>\n",
       "      <th>RENT</th>\n",
       "      <td>27</td>\n",
       "      <td>94</td>\n",
       "      <td>56</td>\n",
       "      <td>317</td>\n",
       "      <td>4320</td>\n",
       "      <td>346</td>\n",
       "      <td>338</td>\n",
       "      <td>143</td>\n",
       "      <td>37</td>\n",
       "      <td>1223</td>\n",
       "      <td>429</td>\n",
       "      <td>110</td>\n",
       "      <td>2</td>\n",
       "      <td>2</td>\n",
       "      <td>666</td>\n",
       "      <td>5</td>\n",
       "      <td>81</td>\n",
       "      <td>86</td>\n",
       "      <td>148</td>\n",
       "      <td>715</td>\n",
       "      <td>458</td>\n",
       "      <td>3</td>\n",
       "      <td>184</td>\n",
       "      <td>228</td>\n",
       "      <td>202</td>\n",
       "      <td>8</td>\n",
       "      <td>29</td>\n",
       "      <td>268</td>\n",
       "      <td>2</td>\n",
       "      <td>63</td>\n",
       "      <td>1024</td>\n",
       "      <td>63</td>\n",
       "      <td>210</td>\n",
       "      <td>2521</td>\n",
       "      <td>430</td>\n",
       "      <td>76</td>\n",
       "      <td>243</td>\n",
       "      <td>639</td>\n",
       "      <td>88</td>\n",
       "      <td>135</td>\n",
       "      <td>18</td>\n",
       "      <td>8</td>\n",
       "      <td>974</td>\n",
       "      <td>90</td>\n",
       "      <td>628</td>\n",
       "      <td>26</td>\n",
       "      <td>419</td>\n",
       "      <td>190</td>\n",
       "      <td>44</td>\n",
       "      <td>23</td>\n",
       "    </tr>\n",
       "  </tbody>\n",
       "</table>\n",
       "</div>"
      ],
      "text/plain": [
       "address_state   AK   AL   AR   AZ    CA   CO   CT   DC  DE    FL   GA   HI  \\\n",
       "home_ownership                                                               \n",
       "MORTGAGE        45  278  157  467  2186  388  331   55  64  1306  827   47   \n",
       "OTHER            0    0    1    5    21    5    1    4   0     4    6    0   \n",
       "OWN              6   60   22   44   367   31   60   12   9   240   93   13   \n",
       "RENT            27   94   56  317  4320  346  338  143  37  1223  429  110   \n",
       "\n",
       "address_state   IA  ID   IL  IN   KS   KY   LA   MA   MD  ME   MI   MN   MO  \\\n",
       "home_ownership                                                                \n",
       "MORTGAGE         2   3  724   4  148  204  229  492  496   0  434  322  409   \n",
       "OTHER            0   0    3   0    2    0    1    4    2   0    2    1    1   \n",
       "OWN              1   1   93   0   29   30   48   99   71   0   65   41   48   \n",
       "RENT             2   2  666   5   81   86  148  715  458   3  184  228  202   \n",
       "\n",
       "address_state   MS  MT   NC  NE  NH    NJ  NM   NV    NY   OH   OK   OR   PA  \\\n",
       "home_ownership                                                                 \n",
       "MORTGAGE         8  41  441   3  83   630  99  256   848  664  192  177  700   \n",
       "OTHER            1   1    1   0   0     3   0    1     7    2    0    1    1   \n",
       "OWN              2   8   49   0  15   165  21   15   325   92   25   15  142   \n",
       "RENT             8  29  268   2  63  1024  63  210  2521  430   76  243  639   \n",
       "\n",
       "address_state   RI   SC  SD  TN    TX   UT   VA  VT   WA   WI   WV  WY  \n",
       "home_ownership                                                          \n",
       "MORTGAGE        98  281  40   7  1445  156  651  24  356  235  100  48  \n",
       "OTHER            1    1   0   0     6    0    6   2    0    1    0   0  \n",
       "OWN              9   47   5   2   239    6   90   2   30   20   23   8  \n",
       "RENT            88  135  18   8   974   90  628  26  419  190   44  23  "
      ]
     },
     "execution_count": 102,
     "metadata": {},
     "output_type": "execute_result"
    }
   ],
   "source": [
    "pd.crosstab(loan[\"home_ownership\"],loan[\"address_state\"])"
   ]
  },
  {
   "cell_type": "code",
   "execution_count": 103,
   "id": "6552188d-7f84-4abf-b72c-9a83f574c804",
   "metadata": {},
   "outputs": [
    {
     "data": {
      "text/plain": [
       "home_ownership\n",
       "RENT        18439\n",
       "MORTGAGE    17201\n",
       "OWN          2838\n",
       "OTHER          98\n",
       "Name: count, dtype: int64"
      ]
     },
     "execution_count": 103,
     "metadata": {},
     "output_type": "execute_result"
    }
   ],
   "source": [
    "loan[\"home_ownership\"].value_counts()"
   ]
  },
  {
   "cell_type": "markdown",
   "id": "fe429367-08f6-4173-80d4-af549763fa78",
   "metadata": {},
   "source": [
    "#### Plot"
   ]
  },
  {
   "cell_type": "code",
   "execution_count": 104,
   "id": "8b152295-d77f-4de6-856d-45921ae6bfc7",
   "metadata": {},
   "outputs": [
    {
     "data": {
      "image/png": "[encoded data removed]",
      "text/plain": [
       "<Figure size 640x480 with 1 Axes>"
      ]
     },
     "metadata": {},
     "output_type": "display_data"
    }
   ],
   "source": [
    "home_ownership=[\"RENT\",\"MORTGAGE\",\"OWN\",\"OTHER\"]\n",
    "plt.pie([18442,17198,2838,98],labels=home_ownership,autopct=\"%1.1f%%\",explode=[0.1,0,0,0.2])\n",
    "plt.show()"
   ]
  },
  {
   "cell_type": "markdown",
   "id": "0b5c1519-4583-4179-ab15-1f2fd2061cfd",
   "metadata": {},
   "source": [
    "#### -->Observation"
   ]
  },
  {
   "cell_type": "markdown",
   "id": "31934639-ab59-4426-856f-8853fbc361b5",
   "metadata": {},
   "source": [
    " - Here i observe that rented people are more.\n",
    " - From MORTGAGE,RENT,OWN and OTHER most registraton are From state CA."
   ]
  },
  {
   "cell_type": "code",
   "execution_count": null,
   "id": "7f25c22a-8a30-4e07-8a1d-77eeb542b0f0",
   "metadata": {},
   "outputs": [],
   "source": []
  },
  {
   "cell_type": "markdown",
   "id": "cde85b83-59f4-42eb-9c2c-80da713ff208",
   "metadata": {},
   "source": [
    "### 4. Check Borrower length along with home ownership."
   ]
  },
  {
   "cell_type": "code",
   "execution_count": 105,
   "id": "fe03bf28-a8a8-49e2-bd46-c3a627cf7ab4",
   "metadata": {},
   "outputs": [
    {
     "data": {
      "text/plain": [
       "count     38576\n",
       "unique       10\n",
       "top          10\n",
       "freq       8870\n",
       "Name: emp_length, dtype: object"
      ]
     },
     "execution_count": 105,
     "metadata": {},
     "output_type": "execute_result"
    }
   ],
   "source": [
    "loan[\"emp_length\"].describe()"
   ]
  },
  {
   "cell_type": "code",
   "execution_count": 106,
   "id": "fa33406e-d51f-4f15-a02f-3adedda721ba",
   "metadata": {},
   "outputs": [
    {
     "data": {
      "text/html": [
       "<div>\n",
       "<style scoped>\n",
       "    .dataframe tbody tr th:only-of-type {\n",
       "        vertical-align: middle;\n",
       "    }\n",
       "\n",
       "    .dataframe tbody tr th {\n",
       "        vertical-align: top;\n",
       "    }\n",
       "\n",
       "    .dataframe thead th {\n",
       "        text-align: right;\n",
       "    }\n",
       "</style>\n",
       "<table border=\"1\" class=\"dataframe\">\n",
       "  <thead>\n",
       "    <tr style=\"text-align: right;\">\n",
       "      <th>emp_length</th>\n",
       "      <th>1</th>\n",
       "      <th>10</th>\n",
       "      <th>2</th>\n",
       "      <th>3</th>\n",
       "      <th>4</th>\n",
       "      <th>5</th>\n",
       "      <th>6</th>\n",
       "      <th>7</th>\n",
       "      <th>8</th>\n",
       "      <th>9</th>\n",
       "      <th>All</th>\n",
       "    </tr>\n",
       "    <tr>\n",
       "      <th>home_ownership</th>\n",
       "      <th></th>\n",
       "      <th></th>\n",
       "      <th></th>\n",
       "      <th></th>\n",
       "      <th></th>\n",
       "      <th></th>\n",
       "      <th></th>\n",
       "      <th></th>\n",
       "      <th></th>\n",
       "      <th></th>\n",
       "      <th></th>\n",
       "    </tr>\n",
       "  </thead>\n",
       "  <tbody>\n",
       "    <tr>\n",
       "      <th>MORTGAGE</th>\n",
       "      <td>2273</td>\n",
       "      <td>5549</td>\n",
       "      <td>1468</td>\n",
       "      <td>1570</td>\n",
       "      <td>1401</td>\n",
       "      <td>1483</td>\n",
       "      <td>1092</td>\n",
       "      <td>884</td>\n",
       "      <td>780</td>\n",
       "      <td>701</td>\n",
       "      <td>17201</td>\n",
       "    </tr>\n",
       "    <tr>\n",
       "      <th>OTHER</th>\n",
       "      <td>36</td>\n",
       "      <td>19</td>\n",
       "      <td>10</td>\n",
       "      <td>10</td>\n",
       "      <td>7</td>\n",
       "      <td>5</td>\n",
       "      <td>4</td>\n",
       "      <td>3</td>\n",
       "      <td>4</td>\n",
       "      <td>0</td>\n",
       "      <td>98</td>\n",
       "    </tr>\n",
       "    <tr>\n",
       "      <th>OWN</th>\n",
       "      <td>561</td>\n",
       "      <td>756</td>\n",
       "      <td>282</td>\n",
       "      <td>253</td>\n",
       "      <td>241</td>\n",
       "      <td>233</td>\n",
       "      <td>161</td>\n",
       "      <td>140</td>\n",
       "      <td>119</td>\n",
       "      <td>92</td>\n",
       "      <td>2838</td>\n",
       "    </tr>\n",
       "    <tr>\n",
       "      <th>RENT</th>\n",
       "      <td>4934</td>\n",
       "      <td>2546</td>\n",
       "      <td>2622</td>\n",
       "      <td>2255</td>\n",
       "      <td>1779</td>\n",
       "      <td>1552</td>\n",
       "      <td>971</td>\n",
       "      <td>745</td>\n",
       "      <td>573</td>\n",
       "      <td>462</td>\n",
       "      <td>18439</td>\n",
       "    </tr>\n",
       "    <tr>\n",
       "      <th>All</th>\n",
       "      <td>7804</td>\n",
       "      <td>8870</td>\n",
       "      <td>4382</td>\n",
       "      <td>4088</td>\n",
       "      <td>3428</td>\n",
       "      <td>3273</td>\n",
       "      <td>2228</td>\n",
       "      <td>1772</td>\n",
       "      <td>1476</td>\n",
       "      <td>1255</td>\n",
       "      <td>38576</td>\n",
       "    </tr>\n",
       "  </tbody>\n",
       "</table>\n",
       "</div>"
      ],
      "text/plain": [
       "emp_length         1    10     2     3     4     5     6     7     8     9  \\\n",
       "home_ownership                                                               \n",
       "MORTGAGE        2273  5549  1468  1570  1401  1483  1092   884   780   701   \n",
       "OTHER             36    19    10    10     7     5     4     3     4     0   \n",
       "OWN              561   756   282   253   241   233   161   140   119    92   \n",
       "RENT            4934  2546  2622  2255  1779  1552   971   745   573   462   \n",
       "All             7804  8870  4382  4088  3428  3273  2228  1772  1476  1255   \n",
       "\n",
       "emp_length        All  \n",
       "home_ownership         \n",
       "MORTGAGE        17201  \n",
       "OTHER              98  \n",
       "OWN              2838  \n",
       "RENT            18439  \n",
       "All             38576  "
      ]
     },
     "execution_count": 106,
     "metadata": {},
     "output_type": "execute_result"
    }
   ],
   "source": [
    "pd.crosstab(loan[\"home_ownership\"],loan[\"emp_length\"],margins=True)"
   ]
  },
  {
   "cell_type": "code",
   "execution_count": 107,
   "id": "2b84c893-0909-4d2f-ad72-bea5ac3f3b76",
   "metadata": {},
   "outputs": [
    {
     "data": {
      "image/png": "[encoded data removed]",
      "text/plain": [
       "<Figure size 640x480 with 1 Axes>"
      ]
     },
     "metadata": {},
     "output_type": "display_data"
    }
   ],
   "source": [
    "plt.bar(x=[\"MORTGAGE\",\"RENT\",\"OWN\",\"OTHER\"],height=[10,1,10,1])\n",
    "plt.xlabel(\"Home_Ownership\")\n",
    "plt.ylabel(\"Job length\")\n",
    "plt.show()"
   ]
  },
  {
   "cell_type": "code",
   "execution_count": 108,
   "id": "822496ab-efb2-4d17-b698-bf0f0c6847d1",
   "metadata": {},
   "outputs": [
    {
     "data": {
      "text/plain": [
       "array(['1', '9', '4', '10', '3', '5', '6', '2', '7', '8'], dtype=object)"
      ]
     },
     "execution_count": 108,
     "metadata": {},
     "output_type": "execute_result"
    }
   ],
   "source": [
    "loan[\"emp_length\"].unique()"
   ]
  },
  {
   "cell_type": "markdown",
   "id": "712c3417-6eb3-40b2-a09a-1d62aebbead2",
   "metadata": {},
   "source": [
    "#### -->Observation"
   ]
  },
  {
   "cell_type": "markdown",
   "id": "a8fd77db-ff8d-4860-9d87-06bcb4938074",
   "metadata": {},
   "source": [
    " - Here i can see that most no of borrowers are of 10 years exprience in their job field and less no of borrowers are from 1 years exprience.\n",
    " - Most 10 years exprience borrowers are living in Mortgage. and most no of 1 years of exprience of borrowers are living in rent.\n",
    " - Who has Own home have 10 years expreince. Who has rent house have 1 years of expreince."
   ]
  },
  {
   "cell_type": "code",
   "execution_count": null,
   "id": "67a2ebee-d864-446c-b746-dbe1deb40435",
   "metadata": {},
   "outputs": [],
   "source": []
  },
  {
   "cell_type": "markdown",
   "id": "910934de-f5c8-4d0c-9189-e9964a36d9a0",
   "metadata": {},
   "source": [
    "### 5. Check Borrower length along with loan status."
   ]
  },
  {
   "cell_type": "code",
   "execution_count": 109,
   "id": "3f7b8709-781a-4fee-8c7c-a8f39700592c",
   "metadata": {},
   "outputs": [
    {
     "data": {
      "text/html": [
       "<div>\n",
       "<style scoped>\n",
       "    .dataframe tbody tr th:only-of-type {\n",
       "        vertical-align: middle;\n",
       "    }\n",
       "\n",
       "    .dataframe tbody tr th {\n",
       "        vertical-align: top;\n",
       "    }\n",
       "\n",
       "    .dataframe thead th {\n",
       "        text-align: right;\n",
       "    }\n",
       "</style>\n",
       "<table border=\"1\" class=\"dataframe\">\n",
       "  <thead>\n",
       "    <tr style=\"text-align: right;\">\n",
       "      <th>emp_length</th>\n",
       "      <th>1</th>\n",
       "      <th>10</th>\n",
       "      <th>2</th>\n",
       "      <th>3</th>\n",
       "      <th>4</th>\n",
       "      <th>5</th>\n",
       "      <th>6</th>\n",
       "      <th>7</th>\n",
       "      <th>8</th>\n",
       "      <th>9</th>\n",
       "    </tr>\n",
       "    <tr>\n",
       "      <th>loan_status</th>\n",
       "      <th></th>\n",
       "      <th></th>\n",
       "      <th></th>\n",
       "      <th></th>\n",
       "      <th></th>\n",
       "      <th></th>\n",
       "      <th></th>\n",
       "      <th></th>\n",
       "      <th></th>\n",
       "      <th></th>\n",
       "    </tr>\n",
       "  </thead>\n",
       "  <tbody>\n",
       "    <tr>\n",
       "      <th>Charged Off</th>\n",
       "      <td>1076</td>\n",
       "      <td>1322</td>\n",
       "      <td>561</td>\n",
       "      <td>548</td>\n",
       "      <td>454</td>\n",
       "      <td>449</td>\n",
       "      <td>306</td>\n",
       "      <td>262</td>\n",
       "      <td>200</td>\n",
       "      <td>155</td>\n",
       "    </tr>\n",
       "    <tr>\n",
       "      <th>Current</th>\n",
       "      <td>146</td>\n",
       "      <td>391</td>\n",
       "      <td>97</td>\n",
       "      <td>83</td>\n",
       "      <td>94</td>\n",
       "      <td>88</td>\n",
       "      <td>61</td>\n",
       "      <td>62</td>\n",
       "      <td>44</td>\n",
       "      <td>32</td>\n",
       "    </tr>\n",
       "    <tr>\n",
       "      <th>Fully Paid</th>\n",
       "      <td>6582</td>\n",
       "      <td>7157</td>\n",
       "      <td>3724</td>\n",
       "      <td>3457</td>\n",
       "      <td>2880</td>\n",
       "      <td>2736</td>\n",
       "      <td>1861</td>\n",
       "      <td>1448</td>\n",
       "      <td>1232</td>\n",
       "      <td>1068</td>\n",
       "    </tr>\n",
       "  </tbody>\n",
       "</table>\n",
       "</div>"
      ],
      "text/plain": [
       "emp_length      1    10     2     3     4     5     6     7     8     9\n",
       "loan_status                                                            \n",
       "Charged Off  1076  1322   561   548   454   449   306   262   200   155\n",
       "Current       146   391    97    83    94    88    61    62    44    32\n",
       "Fully Paid   6582  7157  3724  3457  2880  2736  1861  1448  1232  1068"
      ]
     },
     "execution_count": 109,
     "metadata": {},
     "output_type": "execute_result"
    }
   ],
   "source": [
    "pd.crosstab(loan[\"loan_status\"],loan[\"emp_length\"])"
   ]
  },
  {
   "cell_type": "code",
   "execution_count": 110,
   "id": "622f77b6-a479-43ec-9921-1ff01ccfd904",
   "metadata": {},
   "outputs": [
    {
     "data": {
      "text/plain": [
       "loan_status\n",
       "Fully Paid     32145\n",
       "Charged Off     5333\n",
       "Current         1098\n",
       "Name: count, dtype: int64"
      ]
     },
     "execution_count": 110,
     "metadata": {},
     "output_type": "execute_result"
    }
   ],
   "source": [
    "loan[\"loan_status\"].value_counts()"
   ]
  },
  {
   "cell_type": "markdown",
   "id": "98b2bd9c-9ea1-4837-96c0-e2c2c4183ca2",
   "metadata": {},
   "source": [
    "#### Plot"
   ]
  },
  {
   "cell_type": "code",
   "execution_count": 111,
   "id": "4cc92ff0-4860-496d-99a0-cf3f622a251b",
   "metadata": {},
   "outputs": [
    {
     "data": {
      "image/png": "[encoded data removed]",
      "text/plain": [
       "<Figure size 640x480 with 1 Axes>"
      ]
     },
     "metadata": {},
     "output_type": "display_data"
    }
   ],
   "source": [
    "loan_status=[\"Fully Paid\",\"Charged Off\",\"Current \"]\n",
    "plt.pie([32145,5333,1098],labels=loan_status,autopct=\"%1.1f%%\",explode=[0.1,0,0])\n",
    "plt.show()"
   ]
  },
  {
   "cell_type": "markdown",
   "id": "9ce99a0d-7dfb-4b72-b1d1-957bcace8147",
   "metadata": {},
   "source": [
    "#### -->Observation"
   ]
  },
  {
   "cell_type": "markdown",
   "id": "3cfff273-1567-433c-ac99-9b5e75181512",
   "metadata": {},
   "source": [
    " - Here i observe that fullypaid borrowers are more and 10 years expreinced borrowers are fully paid. That means more expreinced borrowers are paid the    full amount."
   ]
  },
  {
   "cell_type": "markdown",
   "id": "2102c097-7b1c-480a-b730-a467c0de241b",
   "metadata": {},
   "source": [
    "### 6. Analysis on Good loan and Bad loan."
   ]
  },
  {
   "cell_type": "code",
   "execution_count": 112,
   "id": "d2e57931-a126-4381-98b9-f7bb8b417466",
   "metadata": {},
   "outputs": [],
   "source": [
    "loan.replace({\"Fully Paid\":\"Good loan\",\"Current\":\"Good loan\",\"Charged Off\":\"Bad loan\"},inplace=True)"
   ]
  },
  {
   "cell_type": "code",
   "execution_count": 113,
   "id": "903bf935-79d5-4590-97d2-7b9a8dee8db3",
   "metadata": {},
   "outputs": [
    {
     "data": {
      "text/plain": [
       "loan_status\n",
       "Good loan    33243\n",
       "Bad loan      5333\n",
       "Name: count, dtype: int64"
      ]
     },
     "execution_count": 113,
     "metadata": {},
     "output_type": "execute_result"
    }
   ],
   "source": [
    "loan[\"loan_status\"].value_counts()"
   ]
  },
  {
   "cell_type": "markdown",
   "id": "12ad5942-3b03-4de6-905e-f57b055a765e",
   "metadata": {},
   "source": [
    "#### Plot"
   ]
  },
  {
   "cell_type": "code",
   "execution_count": 114,
   "id": "cb38e09e-970a-4323-94ae-cdb4229eacd6",
   "metadata": {},
   "outputs": [
    {
     "data": {
      "image/png": "[encoded data removed]",
      "text/plain": [
       "<Figure size 640x480 with 1 Axes>"
      ]
     },
     "metadata": {},
     "output_type": "display_data"
    }
   ],
   "source": [
    "loan_status=[\"Good loan\",\"Bad loan\"]\n",
    "plt.pie([33243,5333],labels=loan_status,autopct=\"%1.1f%%\",explode=[0,0.1])\n",
    "plt.show()"
   ]
  },
  {
   "cell_type": "code",
   "execution_count": 115,
   "id": "f3a57f91-1ff0-4de6-ae18-0fd6d20a06b4",
   "metadata": {},
   "outputs": [
    {
     "data": {
      "text/plain": [
       "loan_status\n",
       "Bad loan      65532225\n",
       "Good loan    370224850\n",
       "Name: loan_amount, dtype: int64"
      ]
     },
     "execution_count": 115,
     "metadata": {},
     "output_type": "execute_result"
    }
   ],
   "source": [
    "loan.groupby([\"loan_status\"])[\"loan_amount\"].sum()"
   ]
  },
  {
   "cell_type": "code",
   "execution_count": 116,
   "id": "6c03fbf1-7d32-4c6f-9a38-43db47158a39",
   "metadata": {},
   "outputs": [
    {
     "data": {
      "text/plain": [
       "loan_status\n",
       "Bad loan      37284763\n",
       "Good loan    435786170\n",
       "Name: total_payment, dtype: int64"
      ]
     },
     "execution_count": 116,
     "metadata": {},
     "output_type": "execute_result"
    }
   ],
   "source": [
    "loan.groupby([\"loan_status\"])[\"total_payment\"].sum()"
   ]
  },
  {
   "cell_type": "markdown",
   "id": "c63c6ace-5a1a-46c2-b535-5338bb96924e",
   "metadata": {},
   "source": [
    "#### -->Observation"
   ]
  },
  {
   "cell_type": "markdown",
   "id": "27202ff4-307b-4555-839b-09ab98a8f1f4",
   "metadata": {},
   "source": [
    " - Here the good loan percentage is high with 86.2% and bad loan percentage is low with 13.8%.\n",
    " - Total good laon applications and bad loan applications are registered is 33243 and 5333 respectively.\n",
    " - Total funded amount for good loan is 65532225 and for bad loan is 370224850.\n",
    " - total recieved amount for good loan is 37284763 and for bad loan is 435786170."
   ]
  },
  {
   "cell_type": "markdown",
   "id": "7dfd7749-b72b-4747-969e-1ecf93a1427c",
   "metadata": {},
   "source": [
    "### 7. Analysis on Purpose of loan."
   ]
  },
  {
   "cell_type": "code",
   "execution_count": 117,
   "id": "bcea2b1c-2042-4a83-970d-131b2f66b647",
   "metadata": {},
   "outputs": [
    {
     "data": {
      "text/plain": [
       "purpose\n",
       "Debt consolidation    18214\n",
       "credit card            4998\n",
       "other                  3824\n",
       "home improvement       2876\n",
       "major purchase         2110\n",
       "small business         1776\n",
       "car                    1497\n",
       "wedding                 928\n",
       "medical                 667\n",
       "moving                  559\n",
       "house                   366\n",
       "vacation                352\n",
       "educational             315\n",
       "renewable_energy         94\n",
       "Name: count, dtype: int64"
      ]
     },
     "execution_count": 117,
     "metadata": {},
     "output_type": "execute_result"
    }
   ],
   "source": [
    "loan[\"purpose\"].value_counts()\n"
   ]
  },
  {
   "cell_type": "code",
   "execution_count": 118,
   "id": "d6811312-cacd-4a77-9cc7-96759a471dfc",
   "metadata": {},
   "outputs": [
    {
     "data": {
      "image/png": "[encoded data removed]",
      "text/plain": [
       "<Figure size 1000x600 with 1 Axes>"
      ]
     },
     "metadata": {},
     "output_type": "display_data"
    }
   ],
   "source": [
    "plt.figure(figsize=(10,6))\n",
    "plt.hist(loan[\"purpose\"])\n",
    "plt.xticks(rotation=70)\n",
    "plt.show()\n"
   ]
  },
  {
   "cell_type": "markdown",
   "id": "d9d96319-2391-4534-abbe-1c8c46f6965a",
   "metadata": {},
   "source": [
    "#### -->Observation"
   ]
  },
  {
   "cell_type": "markdown",
   "id": "3ba32e3e-24bf-4817-b75d-6a9aabe47428",
   "metadata": {},
   "source": [
    " - Here debt concolidation loans are highest with 18214 and renewable energy loans are less with 94."
   ]
  },
  {
   "cell_type": "code",
   "execution_count": null,
   "id": "99dbba8a-323c-44da-95ae-6d659671427f",
   "metadata": {},
   "outputs": [],
   "source": []
  },
  {
   "cell_type": "markdown",
   "id": "8721db93-50ba-4685-b211-6d48f8f6bf3f",
   "metadata": {},
   "source": [
    "### 8. Analysis on Loan term. "
   ]
  },
  {
   "cell_type": "code",
   "execution_count": 119,
   "id": "5d0cea8c-cc96-493a-8bce-039d2b0c5b12",
   "metadata": {},
   "outputs": [
    {
     "data": {
      "text/plain": [
       "term\n",
       "36 months    28237\n",
       "60 months    10339\n",
       "Name: count, dtype: int64"
      ]
     },
     "execution_count": 119,
     "metadata": {},
     "output_type": "execute_result"
    }
   ],
   "source": [
    "loan[\"term\"].value_counts()"
   ]
  },
  {
   "cell_type": "code",
   "execution_count": null,
   "id": "06852562-1852-48ed-a403-ab6f82cb3e23",
   "metadata": {},
   "outputs": [],
   "source": []
  },
  {
   "cell_type": "code",
   "execution_count": 120,
   "id": "c2515bae-4960-4388-b8fb-bc7bc7b9b237",
   "metadata": {},
   "outputs": [
    {
     "data": {
      "image/png": "[encoded data removed]",
      "text/plain": [
       "<Figure size 640x480 with 1 Axes>"
      ]
     },
     "metadata": {},
     "output_type": "display_data"
    }
   ],
   "source": [
    "term=[\"36 months\",\"60 months\"]\n",
    "plt.pie([28237,10339],labels=term,autopct=\"%1.1f%%\",explode=[0.1,0])\n",
    "# plt.figure(figsize=(24,54))\n",
    "plt.show()"
   ]
  },
  {
   "cell_type": "markdown",
   "id": "5b56a505-d244-4f4b-93bb-f322fed87d2a",
   "metadata": {},
   "source": [
    "#### -->Observation"
   ]
  },
  {
   "cell_type": "markdown",
   "id": "71d04af0-eeb1-43db-bbb4-f366525b7040",
   "metadata": {},
   "source": [
    " - Here loans with term of 36 month are most with 28237 and loans with 60 months are less with 10339."
   ]
  },
  {
   "cell_type": "markdown",
   "id": "d943fe25-d16a-4952-84e3-975ff1304886",
   "metadata": {},
   "source": [
    "### 9. Analysis on annual income of borrowers."
   ]
  },
  {
   "cell_type": "code",
   "execution_count": 121,
   "id": "cce5cbbf-acd9-41e0-8b51-e0a007a3082f",
   "metadata": {},
   "outputs": [
    {
     "data": {
      "text/plain": [
       "6000000.0"
      ]
     },
     "execution_count": 121,
     "metadata": {},
     "output_type": "execute_result"
    }
   ],
   "source": [
    "loan[\"annual_income\"].max()"
   ]
  },
  {
   "cell_type": "code",
   "execution_count": 122,
   "id": "bd52f1c1-3b61-45e3-a1e1-393d75370431",
   "metadata": {},
   "outputs": [
    {
     "data": {
      "text/plain": [
       "4000.0"
      ]
     },
     "execution_count": 122,
     "metadata": {},
     "output_type": "execute_result"
    }
   ],
   "source": [
    "loan[\"annual_income\"].min()"
   ]
  },
  {
   "cell_type": "code",
   "execution_count": 123,
   "id": "55290b98-022e-4883-82f0-ee146d7d6293",
   "metadata": {},
   "outputs": [
    {
     "data": {
      "text/plain": [
       "69644.54031003732"
      ]
     },
     "execution_count": 123,
     "metadata": {},
     "output_type": "execute_result"
    }
   ],
   "source": [
    "loan[\"annual_income\"].mean()"
   ]
  },
  {
   "cell_type": "markdown",
   "id": "18978b57-4877-48e7-87ba-8d92b58917e7",
   "metadata": {},
   "source": [
    "#### -->Observation"
   ]
  },
  {
   "cell_type": "markdown",
   "id": "f29df413-65bd-4601-b33d-2283529af80f",
   "metadata": {},
   "source": [
    " - The maximum , minimum and average annual income of borrowers are 6000000, 4000, 69644."
   ]
  },
  {
   "cell_type": "markdown",
   "id": "3e57c29c-8fcd-450b-a419-a306ce812905",
   "metadata": {},
   "source": [
    "### 10. Analysis on DTI."
   ]
  },
  {
   "cell_type": "code",
   "execution_count": 124,
   "id": "c413647c-face-4102-9d08-67207eedcc27",
   "metadata": {},
   "outputs": [
    {
     "data": {
      "text/plain": [
       "count    38576.000000\n",
       "mean         0.133274\n",
       "std          0.066662\n",
       "min          0.000000\n",
       "25%          0.082100\n",
       "50%          0.134200\n",
       "75%          0.185900\n",
       "max          0.299900\n",
       "Name: dti, dtype: float64"
      ]
     },
     "execution_count": 124,
     "metadata": {},
     "output_type": "execute_result"
    }
   ],
   "source": [
    "loan[\"dti\"].describe()"
   ]
  },
  {
   "cell_type": "code",
   "execution_count": 125,
   "id": "6893bb64-f022-4b0b-93fe-cebd108bb62f",
   "metadata": {},
   "outputs": [
    {
     "data": {
      "text/html": [
       "<div>\n",
       "<style scoped>\n",
       "    .dataframe tbody tr th:only-of-type {\n",
       "        vertical-align: middle;\n",
       "    }\n",
       "\n",
       "    .dataframe tbody tr th {\n",
       "        vertical-align: top;\n",
       "    }\n",
       "\n",
       "    .dataframe thead th {\n",
       "        text-align: right;\n",
       "    }\n",
       "</style>\n",
       "<table border=\"1\" class=\"dataframe\">\n",
       "  <thead>\n",
       "    <tr style=\"text-align: right;\">\n",
       "      <th></th>\n",
       "      <th>count</th>\n",
       "      <th>mean</th>\n",
       "      <th>std</th>\n",
       "      <th>min</th>\n",
       "      <th>25%</th>\n",
       "      <th>50%</th>\n",
       "      <th>75%</th>\n",
       "      <th>max</th>\n",
       "    </tr>\n",
       "    <tr>\n",
       "      <th>grade</th>\n",
       "      <th></th>\n",
       "      <th></th>\n",
       "      <th></th>\n",
       "      <th></th>\n",
       "      <th></th>\n",
       "      <th></th>\n",
       "      <th></th>\n",
       "      <th></th>\n",
       "    </tr>\n",
       "  </thead>\n",
       "  <tbody>\n",
       "    <tr>\n",
       "      <th>A</th>\n",
       "      <td>9689.0</td>\n",
       "      <td>0.120383</td>\n",
       "      <td>0.069732</td>\n",
       "      <td>0.0</td>\n",
       "      <td>0.064900</td>\n",
       "      <td>0.11500</td>\n",
       "      <td>0.1706</td>\n",
       "      <td>0.2999</td>\n",
       "    </tr>\n",
       "    <tr>\n",
       "      <th>B</th>\n",
       "      <td>11674.0</td>\n",
       "      <td>0.134321</td>\n",
       "      <td>0.066448</td>\n",
       "      <td>0.0</td>\n",
       "      <td>0.083425</td>\n",
       "      <td>0.13530</td>\n",
       "      <td>0.1864</td>\n",
       "      <td>0.2995</td>\n",
       "    </tr>\n",
       "    <tr>\n",
       "      <th>C</th>\n",
       "      <td>7904.0</td>\n",
       "      <td>0.139151</td>\n",
       "      <td>0.064673</td>\n",
       "      <td>0.0</td>\n",
       "      <td>0.091100</td>\n",
       "      <td>0.14090</td>\n",
       "      <td>0.1904</td>\n",
       "      <td>0.2956</td>\n",
       "    </tr>\n",
       "    <tr>\n",
       "      <th>D</th>\n",
       "      <td>5182.0</td>\n",
       "      <td>0.139808</td>\n",
       "      <td>0.063601</td>\n",
       "      <td>0.0</td>\n",
       "      <td>0.092625</td>\n",
       "      <td>0.14295</td>\n",
       "      <td>0.1915</td>\n",
       "      <td>0.2963</td>\n",
       "    </tr>\n",
       "    <tr>\n",
       "      <th>E</th>\n",
       "      <td>2786.0</td>\n",
       "      <td>0.140953</td>\n",
       "      <td>0.063752</td>\n",
       "      <td>0.0</td>\n",
       "      <td>0.093800</td>\n",
       "      <td>0.14495</td>\n",
       "      <td>0.1943</td>\n",
       "      <td>0.2819</td>\n",
       "    </tr>\n",
       "    <tr>\n",
       "      <th>F</th>\n",
       "      <td>1028.0</td>\n",
       "      <td>0.141738</td>\n",
       "      <td>0.061177</td>\n",
       "      <td>0.0</td>\n",
       "      <td>0.096500</td>\n",
       "      <td>0.14695</td>\n",
       "      <td>0.1893</td>\n",
       "      <td>0.2942</td>\n",
       "    </tr>\n",
       "    <tr>\n",
       "      <th>G</th>\n",
       "      <td>313.0</td>\n",
       "      <td>0.140594</td>\n",
       "      <td>0.062575</td>\n",
       "      <td>0.0</td>\n",
       "      <td>0.085200</td>\n",
       "      <td>0.14830</td>\n",
       "      <td>0.1951</td>\n",
       "      <td>0.2469</td>\n",
       "    </tr>\n",
       "  </tbody>\n",
       "</table>\n",
       "</div>"
      ],
      "text/plain": [
       "         count      mean       std  min       25%      50%     75%     max\n",
       "grade                                                                     \n",
       "A       9689.0  0.120383  0.069732  0.0  0.064900  0.11500  0.1706  0.2999\n",
       "B      11674.0  0.134321  0.066448  0.0  0.083425  0.13530  0.1864  0.2995\n",
       "C       7904.0  0.139151  0.064673  0.0  0.091100  0.14090  0.1904  0.2956\n",
       "D       5182.0  0.139808  0.063601  0.0  0.092625  0.14295  0.1915  0.2963\n",
       "E       2786.0  0.140953  0.063752  0.0  0.093800  0.14495  0.1943  0.2819\n",
       "F       1028.0  0.141738  0.061177  0.0  0.096500  0.14695  0.1893  0.2942\n",
       "G        313.0  0.140594  0.062575  0.0  0.085200  0.14830  0.1951  0.2469"
      ]
     },
     "execution_count": 125,
     "metadata": {},
     "output_type": "execute_result"
    }
   ],
   "source": [
    "loan.groupby(loan[\"grade\"])[\"dti\"].describe()"
   ]
  },
  {
   "cell_type": "code",
   "execution_count": 126,
   "id": "ec2ba072-aed3-4331-81ea-b4a7a748dd65",
   "metadata": {},
   "outputs": [
    {
     "data": {
      "text/html": [
       "<div>\n",
       "<style scoped>\n",
       "    .dataframe tbody tr th:only-of-type {\n",
       "        vertical-align: middle;\n",
       "    }\n",
       "\n",
       "    .dataframe tbody tr th {\n",
       "        vertical-align: top;\n",
       "    }\n",
       "\n",
       "    .dataframe thead th {\n",
       "        text-align: right;\n",
       "    }\n",
       "</style>\n",
       "<table border=\"1\" class=\"dataframe\">\n",
       "  <thead>\n",
       "    <tr style=\"text-align: right;\">\n",
       "      <th></th>\n",
       "      <th>count</th>\n",
       "      <th>mean</th>\n",
       "      <th>std</th>\n",
       "      <th>min</th>\n",
       "      <th>25%</th>\n",
       "      <th>50%</th>\n",
       "      <th>75%</th>\n",
       "      <th>max</th>\n",
       "    </tr>\n",
       "    <tr>\n",
       "      <th>issue_month</th>\n",
       "      <th></th>\n",
       "      <th></th>\n",
       "      <th></th>\n",
       "      <th></th>\n",
       "      <th></th>\n",
       "      <th></th>\n",
       "      <th></th>\n",
       "      <th></th>\n",
       "    </tr>\n",
       "  </thead>\n",
       "  <tbody>\n",
       "    <tr>\n",
       "      <th>1</th>\n",
       "      <td>2332.0</td>\n",
       "      <td>0.129370</td>\n",
       "      <td>0.066480</td>\n",
       "      <td>0.0</td>\n",
       "      <td>0.076800</td>\n",
       "      <td>0.13375</td>\n",
       "      <td>0.181425</td>\n",
       "      <td>0.2963</td>\n",
       "    </tr>\n",
       "    <tr>\n",
       "      <th>2</th>\n",
       "      <td>2279.0</td>\n",
       "      <td>0.134093</td>\n",
       "      <td>0.066437</td>\n",
       "      <td>0.0</td>\n",
       "      <td>0.082800</td>\n",
       "      <td>0.13430</td>\n",
       "      <td>0.186200</td>\n",
       "      <td>0.2935</td>\n",
       "    </tr>\n",
       "    <tr>\n",
       "      <th>3</th>\n",
       "      <td>2627.0</td>\n",
       "      <td>0.132156</td>\n",
       "      <td>0.067384</td>\n",
       "      <td>0.0</td>\n",
       "      <td>0.078750</td>\n",
       "      <td>0.13230</td>\n",
       "      <td>0.185800</td>\n",
       "      <td>0.2982</td>\n",
       "    </tr>\n",
       "    <tr>\n",
       "      <th>4</th>\n",
       "      <td>2755.0</td>\n",
       "      <td>0.132194</td>\n",
       "      <td>0.067920</td>\n",
       "      <td>0.0</td>\n",
       "      <td>0.080800</td>\n",
       "      <td>0.13320</td>\n",
       "      <td>0.185250</td>\n",
       "      <td>0.2993</td>\n",
       "    </tr>\n",
       "    <tr>\n",
       "      <th>5</th>\n",
       "      <td>2911.0</td>\n",
       "      <td>0.133337</td>\n",
       "      <td>0.066132</td>\n",
       "      <td>0.0</td>\n",
       "      <td>0.082400</td>\n",
       "      <td>0.13440</td>\n",
       "      <td>0.185950</td>\n",
       "      <td>0.2995</td>\n",
       "    </tr>\n",
       "    <tr>\n",
       "      <th>6</th>\n",
       "      <td>3184.0</td>\n",
       "      <td>0.132438</td>\n",
       "      <td>0.067634</td>\n",
       "      <td>0.0</td>\n",
       "      <td>0.080400</td>\n",
       "      <td>0.13315</td>\n",
       "      <td>0.185600</td>\n",
       "      <td>0.2986</td>\n",
       "    </tr>\n",
       "    <tr>\n",
       "      <th>7</th>\n",
       "      <td>3366.0</td>\n",
       "      <td>0.132948</td>\n",
       "      <td>0.067020</td>\n",
       "      <td>0.0</td>\n",
       "      <td>0.082150</td>\n",
       "      <td>0.13215</td>\n",
       "      <td>0.185000</td>\n",
       "      <td>0.2999</td>\n",
       "    </tr>\n",
       "    <tr>\n",
       "      <th>8</th>\n",
       "      <td>3441.0</td>\n",
       "      <td>0.133532</td>\n",
       "      <td>0.067169</td>\n",
       "      <td>0.0</td>\n",
       "      <td>0.082200</td>\n",
       "      <td>0.13350</td>\n",
       "      <td>0.187200</td>\n",
       "      <td>0.2993</td>\n",
       "    </tr>\n",
       "    <tr>\n",
       "      <th>9</th>\n",
       "      <td>3536.0</td>\n",
       "      <td>0.132978</td>\n",
       "      <td>0.066203</td>\n",
       "      <td>0.0</td>\n",
       "      <td>0.081575</td>\n",
       "      <td>0.13295</td>\n",
       "      <td>0.185625</td>\n",
       "      <td>0.2979</td>\n",
       "    </tr>\n",
       "    <tr>\n",
       "      <th>10</th>\n",
       "      <td>3796.0</td>\n",
       "      <td>0.134144</td>\n",
       "      <td>0.067518</td>\n",
       "      <td>0.0</td>\n",
       "      <td>0.082100</td>\n",
       "      <td>0.13620</td>\n",
       "      <td>0.186925</td>\n",
       "      <td>0.2964</td>\n",
       "    </tr>\n",
       "    <tr>\n",
       "      <th>11</th>\n",
       "      <td>4035.0</td>\n",
       "      <td>0.133027</td>\n",
       "      <td>0.065467</td>\n",
       "      <td>0.0</td>\n",
       "      <td>0.082200</td>\n",
       "      <td>0.13470</td>\n",
       "      <td>0.184800</td>\n",
       "      <td>0.2992</td>\n",
       "    </tr>\n",
       "    <tr>\n",
       "      <th>12</th>\n",
       "      <td>4314.0</td>\n",
       "      <td>0.136655</td>\n",
       "      <td>0.065190</td>\n",
       "      <td>0.0</td>\n",
       "      <td>0.088050</td>\n",
       "      <td>0.13700</td>\n",
       "      <td>0.187900</td>\n",
       "      <td>0.2985</td>\n",
       "    </tr>\n",
       "  </tbody>\n",
       "</table>\n",
       "</div>"
      ],
      "text/plain": [
       "              count      mean       std  min       25%      50%       75%  \\\n",
       "issue_month                                                                 \n",
       "1            2332.0  0.129370  0.066480  0.0  0.076800  0.13375  0.181425   \n",
       "2            2279.0  0.134093  0.066437  0.0  0.082800  0.13430  0.186200   \n",
       "3            2627.0  0.132156  0.067384  0.0  0.078750  0.13230  0.185800   \n",
       "4            2755.0  0.132194  0.067920  0.0  0.080800  0.13320  0.185250   \n",
       "5            2911.0  0.133337  0.066132  0.0  0.082400  0.13440  0.185950   \n",
       "6            3184.0  0.132438  0.067634  0.0  0.080400  0.13315  0.185600   \n",
       "7            3366.0  0.132948  0.067020  0.0  0.082150  0.13215  0.185000   \n",
       "8            3441.0  0.133532  0.067169  0.0  0.082200  0.13350  0.187200   \n",
       "9            3536.0  0.132978  0.066203  0.0  0.081575  0.13295  0.185625   \n",
       "10           3796.0  0.134144  0.067518  0.0  0.082100  0.13620  0.186925   \n",
       "11           4035.0  0.133027  0.065467  0.0  0.082200  0.13470  0.184800   \n",
       "12           4314.0  0.136655  0.065190  0.0  0.088050  0.13700  0.187900   \n",
       "\n",
       "                max  \n",
       "issue_month          \n",
       "1            0.2963  \n",
       "2            0.2935  \n",
       "3            0.2982  \n",
       "4            0.2993  \n",
       "5            0.2995  \n",
       "6            0.2986  \n",
       "7            0.2999  \n",
       "8            0.2993  \n",
       "9            0.2979  \n",
       "10           0.2964  \n",
       "11           0.2992  \n",
       "12           0.2985  "
      ]
     },
     "execution_count": 126,
     "metadata": {},
     "output_type": "execute_result"
    }
   ],
   "source": [
    "loan.groupby(loan[\"issue_month\"])[\"dti\"].describe()"
   ]
  },
  {
   "cell_type": "code",
   "execution_count": 127,
   "id": "d9d1408f-2d0d-45dd-9603-53b82759f315",
   "metadata": {},
   "outputs": [
    {
     "data": {
      "image/png": "[encoded data removed]",
      "text/plain": [
       "<Figure size 640x480 with 1 Axes>"
      ]
     },
     "metadata": {},
     "output_type": "display_data"
    }
   ],
   "source": [
    "plt.bar(x=[\"1\",\"2\",\"3\",\"4\",\"5\",\"6\",\"7\",\"8\",\"9\",\"10\",\"11\",\"12\"],height=[0.129370,0.134093,0.132156,0.132194,0.133337,0.132438,0.132948,0.133532,0.132978,0.134144,0.133027,0.136655])\n",
    "plt.xlabel(\"Months\")\n",
    "plt.ylabel(\"Average DTI\")\n",
    "plt.show()"
   ]
  },
  {
   "cell_type": "code",
   "execution_count": null,
   "id": "3d783347-1a25-43c0-9aa7-71fb79e22e70",
   "metadata": {},
   "outputs": [],
   "source": []
  },
  {
   "cell_type": "code",
   "execution_count": 128,
   "id": "c16c20e2-4535-4b76-94b7-b0a7e7351264",
   "metadata": {},
   "outputs": [
    {
     "data": {
      "text/html": [
       "<div>\n",
       "<style scoped>\n",
       "    .dataframe tbody tr th:only-of-type {\n",
       "        vertical-align: middle;\n",
       "    }\n",
       "\n",
       "    .dataframe tbody tr th {\n",
       "        vertical-align: top;\n",
       "    }\n",
       "\n",
       "    .dataframe thead th {\n",
       "        text-align: right;\n",
       "    }\n",
       "</style>\n",
       "<table border=\"1\" class=\"dataframe\">\n",
       "  <thead>\n",
       "    <tr style=\"text-align: right;\">\n",
       "      <th></th>\n",
       "      <th>count</th>\n",
       "      <th>mean</th>\n",
       "      <th>std</th>\n",
       "      <th>min</th>\n",
       "      <th>25%</th>\n",
       "      <th>50%</th>\n",
       "      <th>75%</th>\n",
       "      <th>max</th>\n",
       "    </tr>\n",
       "    <tr>\n",
       "      <th>term</th>\n",
       "      <th></th>\n",
       "      <th></th>\n",
       "      <th></th>\n",
       "      <th></th>\n",
       "      <th></th>\n",
       "      <th></th>\n",
       "      <th></th>\n",
       "      <th></th>\n",
       "    </tr>\n",
       "  </thead>\n",
       "  <tbody>\n",
       "    <tr>\n",
       "      <th>36 months</th>\n",
       "      <td>28237.0</td>\n",
       "      <td>0.129877</td>\n",
       "      <td>0.066666</td>\n",
       "      <td>0.0</td>\n",
       "      <td>0.0782</td>\n",
       "      <td>0.1301</td>\n",
       "      <td>0.18230</td>\n",
       "      <td>0.2999</td>\n",
       "    </tr>\n",
       "    <tr>\n",
       "      <th>60 months</th>\n",
       "      <td>10339.0</td>\n",
       "      <td>0.142552</td>\n",
       "      <td>0.065765</td>\n",
       "      <td>0.0</td>\n",
       "      <td>0.0941</td>\n",
       "      <td>0.1443</td>\n",
       "      <td>0.19455</td>\n",
       "      <td>0.2995</td>\n",
       "    </tr>\n",
       "  </tbody>\n",
       "</table>\n",
       "</div>"
      ],
      "text/plain": [
       "             count      mean       std  min     25%     50%      75%     max\n",
       "term                                                                        \n",
       "36 months  28237.0  0.129877  0.066666  0.0  0.0782  0.1301  0.18230  0.2999\n",
       "60 months  10339.0  0.142552  0.065765  0.0  0.0941  0.1443  0.19455  0.2995"
      ]
     },
     "execution_count": 128,
     "metadata": {},
     "output_type": "execute_result"
    }
   ],
   "source": [
    "loan.groupby(loan[\"term\"])[\"dti\"].describe()"
   ]
  },
  {
   "cell_type": "code",
   "execution_count": 129,
   "id": "12a277f2-8090-4d27-bb16-9799466509c8",
   "metadata": {},
   "outputs": [
    {
     "data": {
      "text/plain": [
       "<seaborn.axisgrid.FacetGrid at 0x291e1303470>"
      ]
     },
     "execution_count": 129,
     "metadata": {},
     "output_type": "execute_result"
    },
    {
     "data": {
      "image/png": "[encoded data removed]",
      "text/plain": [
       "<Figure size 511.111x500 with 1 Axes>"
      ]
     },
     "metadata": {},
     "output_type": "display_data"
    }
   ],
   "source": [
    "sns.catplot(x=\"term\",y=\"dti\",data=loan,kind=\"bar\")"
   ]
  },
  {
   "cell_type": "code",
   "execution_count": 130,
   "id": "ffefb07a-b31e-40bf-b7e8-f22f6ac98f0d",
   "metadata": {},
   "outputs": [
    {
     "data": {
      "text/html": [
       "<div>\n",
       "<style scoped>\n",
       "    .dataframe tbody tr th:only-of-type {\n",
       "        vertical-align: middle;\n",
       "    }\n",
       "\n",
       "    .dataframe tbody tr th {\n",
       "        vertical-align: top;\n",
       "    }\n",
       "\n",
       "    .dataframe thead th {\n",
       "        text-align: right;\n",
       "    }\n",
       "</style>\n",
       "<table border=\"1\" class=\"dataframe\">\n",
       "  <thead>\n",
       "    <tr style=\"text-align: right;\">\n",
       "      <th></th>\n",
       "      <th>count</th>\n",
       "      <th>mean</th>\n",
       "      <th>std</th>\n",
       "      <th>min</th>\n",
       "      <th>25%</th>\n",
       "      <th>50%</th>\n",
       "      <th>75%</th>\n",
       "      <th>max</th>\n",
       "    </tr>\n",
       "    <tr>\n",
       "      <th>emp_length</th>\n",
       "      <th></th>\n",
       "      <th></th>\n",
       "      <th></th>\n",
       "      <th></th>\n",
       "      <th></th>\n",
       "      <th></th>\n",
       "      <th></th>\n",
       "      <th></th>\n",
       "    </tr>\n",
       "  </thead>\n",
       "  <tbody>\n",
       "    <tr>\n",
       "      <th>1</th>\n",
       "      <td>7804.0</td>\n",
       "      <td>0.127682</td>\n",
       "      <td>0.066954</td>\n",
       "      <td>0.0</td>\n",
       "      <td>0.074600</td>\n",
       "      <td>0.12735</td>\n",
       "      <td>0.180500</td>\n",
       "      <td>0.2993</td>\n",
       "    </tr>\n",
       "    <tr>\n",
       "      <th>10</th>\n",
       "      <td>8870.0</td>\n",
       "      <td>0.137189</td>\n",
       "      <td>0.067114</td>\n",
       "      <td>0.0</td>\n",
       "      <td>0.086700</td>\n",
       "      <td>0.13865</td>\n",
       "      <td>0.189300</td>\n",
       "      <td>0.2999</td>\n",
       "    </tr>\n",
       "    <tr>\n",
       "      <th>2</th>\n",
       "      <td>4382.0</td>\n",
       "      <td>0.131047</td>\n",
       "      <td>0.066107</td>\n",
       "      <td>0.0</td>\n",
       "      <td>0.079300</td>\n",
       "      <td>0.13280</td>\n",
       "      <td>0.183000</td>\n",
       "      <td>0.2995</td>\n",
       "    </tr>\n",
       "    <tr>\n",
       "      <th>3</th>\n",
       "      <td>4088.0</td>\n",
       "      <td>0.131643</td>\n",
       "      <td>0.066198</td>\n",
       "      <td>0.0</td>\n",
       "      <td>0.080175</td>\n",
       "      <td>0.13220</td>\n",
       "      <td>0.183425</td>\n",
       "      <td>0.2993</td>\n",
       "    </tr>\n",
       "    <tr>\n",
       "      <th>4</th>\n",
       "      <td>3428.0</td>\n",
       "      <td>0.131997</td>\n",
       "      <td>0.066997</td>\n",
       "      <td>0.0</td>\n",
       "      <td>0.080275</td>\n",
       "      <td>0.13175</td>\n",
       "      <td>0.184525</td>\n",
       "      <td>0.2982</td>\n",
       "    </tr>\n",
       "    <tr>\n",
       "      <th>5</th>\n",
       "      <td>3273.0</td>\n",
       "      <td>0.134271</td>\n",
       "      <td>0.066994</td>\n",
       "      <td>0.0</td>\n",
       "      <td>0.081800</td>\n",
       "      <td>0.13510</td>\n",
       "      <td>0.188500</td>\n",
       "      <td>0.2988</td>\n",
       "    </tr>\n",
       "    <tr>\n",
       "      <th>6</th>\n",
       "      <td>2228.0</td>\n",
       "      <td>0.138239</td>\n",
       "      <td>0.065961</td>\n",
       "      <td>0.0</td>\n",
       "      <td>0.087875</td>\n",
       "      <td>0.13905</td>\n",
       "      <td>0.190900</td>\n",
       "      <td>0.2992</td>\n",
       "    </tr>\n",
       "    <tr>\n",
       "      <th>7</th>\n",
       "      <td>1772.0</td>\n",
       "      <td>0.136785</td>\n",
       "      <td>0.065417</td>\n",
       "      <td>0.0</td>\n",
       "      <td>0.086950</td>\n",
       "      <td>0.13810</td>\n",
       "      <td>0.188050</td>\n",
       "      <td>0.2989</td>\n",
       "    </tr>\n",
       "    <tr>\n",
       "      <th>8</th>\n",
       "      <td>1476.0</td>\n",
       "      <td>0.137697</td>\n",
       "      <td>0.065289</td>\n",
       "      <td>0.0</td>\n",
       "      <td>0.088775</td>\n",
       "      <td>0.13810</td>\n",
       "      <td>0.192200</td>\n",
       "      <td>0.2944</td>\n",
       "    </tr>\n",
       "    <tr>\n",
       "      <th>9</th>\n",
       "      <td>1255.0</td>\n",
       "      <td>0.135387</td>\n",
       "      <td>0.064874</td>\n",
       "      <td>0.0</td>\n",
       "      <td>0.086950</td>\n",
       "      <td>0.13750</td>\n",
       "      <td>0.185800</td>\n",
       "      <td>0.2965</td>\n",
       "    </tr>\n",
       "  </tbody>\n",
       "</table>\n",
       "</div>"
      ],
      "text/plain": [
       "             count      mean       std  min       25%      50%       75%  \\\n",
       "emp_length                                                                 \n",
       "1           7804.0  0.127682  0.066954  0.0  0.074600  0.12735  0.180500   \n",
       "10          8870.0  0.137189  0.067114  0.0  0.086700  0.13865  0.189300   \n",
       "2           4382.0  0.131047  0.066107  0.0  0.079300  0.13280  0.183000   \n",
       "3           4088.0  0.131643  0.066198  0.0  0.080175  0.13220  0.183425   \n",
       "4           3428.0  0.131997  0.066997  0.0  0.080275  0.13175  0.184525   \n",
       "5           3273.0  0.134271  0.066994  0.0  0.081800  0.13510  0.188500   \n",
       "6           2228.0  0.138239  0.065961  0.0  0.087875  0.13905  0.190900   \n",
       "7           1772.0  0.136785  0.065417  0.0  0.086950  0.13810  0.188050   \n",
       "8           1476.0  0.137697  0.065289  0.0  0.088775  0.13810  0.192200   \n",
       "9           1255.0  0.135387  0.064874  0.0  0.086950  0.13750  0.185800   \n",
       "\n",
       "               max  \n",
       "emp_length          \n",
       "1           0.2993  \n",
       "10          0.2999  \n",
       "2           0.2995  \n",
       "3           0.2993  \n",
       "4           0.2982  \n",
       "5           0.2988  \n",
       "6           0.2992  \n",
       "7           0.2989  \n",
       "8           0.2944  \n",
       "9           0.2965  "
      ]
     },
     "execution_count": 130,
     "metadata": {},
     "output_type": "execute_result"
    }
   ],
   "source": [
    "loan.groupby(loan[\"emp_length\"])[\"dti\"].describe()"
   ]
  },
  {
   "cell_type": "code",
   "execution_count": null,
   "id": "68b31a8d-34af-4fbc-914e-6520aaa2a6a5",
   "metadata": {},
   "outputs": [],
   "source": []
  },
  {
   "cell_type": "markdown",
   "id": "c38f87e9-0295-48b4-826a-8f1d7eee2a8d",
   "metadata": {},
   "source": [
    "#### -->Observation"
   ]
  },
  {
   "cell_type": "markdown",
   "id": "3c29d497-17e5-4850-b966-4a58836ce6ef",
   "metadata": {},
   "source": [
    " - Here the maximum dti is 0.299900 and average dti is 0.133274.\n",
    " - \"B\" grade loans are most with 11674. in 'B' grade loans maximun dti is 0.2995 and average dti is 0.134321.\n",
    " - In 36 month loans maximum dti is 0.2999 and average dti is 0.129877.\n",
    " - In 60 month loans maximum dti is 0.2995 and average dti is 0.142552.\n",
    " - 10 years exprienced borrowers hvae a average dti of 0.137189 and maximum dti of 0.2999.\n",
    " - 1 years exprienced borrowers have a average dti of 0.125547 and maximum dti of 0.2993.\n",
    " - IN december average DTI is high with\t0.136655 and in january average Dti is low with 0.129370 ."
   ]
  },
  {
   "cell_type": "code",
   "execution_count": null,
   "id": "3bc92c7b-2e84-45a5-b90d-70a3cebcf862",
   "metadata": {},
   "outputs": [],
   "source": []
  },
  {
   "cell_type": "markdown",
   "id": "a743b043-3be6-483d-8643-5f7703a5284a",
   "metadata": {},
   "source": [
    "### 11. Analysis on Intrest rate."
   ]
  },
  {
   "cell_type": "code",
   "execution_count": 131,
   "id": "6211c9fc-d6ec-46f3-bd73-5d81061bfef1",
   "metadata": {},
   "outputs": [
    {
     "data": {
      "text/plain": [
       "count    38576.000000\n",
       "mean         0.120488\n",
       "std          0.037164\n",
       "min          0.054200\n",
       "25%          0.093200\n",
       "50%          0.118600\n",
       "75%          0.145900\n",
       "max          0.245900\n",
       "Name: int_rate, dtype: float64"
      ]
     },
     "execution_count": 131,
     "metadata": {},
     "output_type": "execute_result"
    }
   ],
   "source": [
    "loan[\"int_rate\"].describe()"
   ]
  },
  {
   "cell_type": "code",
   "execution_count": 132,
   "id": "14c810ff-8702-4355-b9fb-4eab8585437a",
   "metadata": {},
   "outputs": [
    {
     "data": {
      "text/html": [
       "<div>\n",
       "<style scoped>\n",
       "    .dataframe tbody tr th:only-of-type {\n",
       "        vertical-align: middle;\n",
       "    }\n",
       "\n",
       "    .dataframe tbody tr th {\n",
       "        vertical-align: top;\n",
       "    }\n",
       "\n",
       "    .dataframe thead th {\n",
       "        text-align: right;\n",
       "    }\n",
       "</style>\n",
       "<table border=\"1\" class=\"dataframe\">\n",
       "  <thead>\n",
       "    <tr style=\"text-align: right;\">\n",
       "      <th></th>\n",
       "      <th>count</th>\n",
       "      <th>mean</th>\n",
       "      <th>std</th>\n",
       "      <th>min</th>\n",
       "      <th>25%</th>\n",
       "      <th>50%</th>\n",
       "      <th>75%</th>\n",
       "      <th>max</th>\n",
       "    </tr>\n",
       "    <tr>\n",
       "      <th>issue_month</th>\n",
       "      <th></th>\n",
       "      <th></th>\n",
       "      <th></th>\n",
       "      <th></th>\n",
       "      <th></th>\n",
       "      <th></th>\n",
       "      <th></th>\n",
       "      <th></th>\n",
       "    </tr>\n",
       "  </thead>\n",
       "  <tbody>\n",
       "    <tr>\n",
       "      <th>1</th>\n",
       "      <td>2332.0</td>\n",
       "      <td>0.114619</td>\n",
       "      <td>0.033521</td>\n",
       "      <td>0.0542</td>\n",
       "      <td>0.08940</td>\n",
       "      <td>0.1141</td>\n",
       "      <td>0.1385</td>\n",
       "      <td>0.2086</td>\n",
       "    </tr>\n",
       "    <tr>\n",
       "      <th>2</th>\n",
       "      <td>2279.0</td>\n",
       "      <td>0.117216</td>\n",
       "      <td>0.034649</td>\n",
       "      <td>0.0542</td>\n",
       "      <td>0.09630</td>\n",
       "      <td>0.1111</td>\n",
       "      <td>0.1417</td>\n",
       "      <td>0.2159</td>\n",
       "    </tr>\n",
       "    <tr>\n",
       "      <th>3</th>\n",
       "      <td>2627.0</td>\n",
       "      <td>0.118583</td>\n",
       "      <td>0.034382</td>\n",
       "      <td>0.0542</td>\n",
       "      <td>0.09695</td>\n",
       "      <td>0.1136</td>\n",
       "      <td>0.1422</td>\n",
       "      <td>0.2159</td>\n",
       "    </tr>\n",
       "    <tr>\n",
       "      <th>4</th>\n",
       "      <td>2755.0</td>\n",
       "      <td>0.117409</td>\n",
       "      <td>0.032860</td>\n",
       "      <td>0.0542</td>\n",
       "      <td>0.09880</td>\n",
       "      <td>0.1111</td>\n",
       "      <td>0.1417</td>\n",
       "      <td>0.2159</td>\n",
       "    </tr>\n",
       "    <tr>\n",
       "      <th>5</th>\n",
       "      <td>2911.0</td>\n",
       "      <td>0.122578</td>\n",
       "      <td>0.036565</td>\n",
       "      <td>0.0542</td>\n",
       "      <td>0.09880</td>\n",
       "      <td>0.1199</td>\n",
       "      <td>0.1479</td>\n",
       "      <td>0.2359</td>\n",
       "    </tr>\n",
       "    <tr>\n",
       "      <th>6</th>\n",
       "      <td>3184.0</td>\n",
       "      <td>0.122742</td>\n",
       "      <td>0.038125</td>\n",
       "      <td>0.0542</td>\n",
       "      <td>0.09630</td>\n",
       "      <td>0.1189</td>\n",
       "      <td>0.1484</td>\n",
       "      <td>0.2459</td>\n",
       "    </tr>\n",
       "    <tr>\n",
       "      <th>7</th>\n",
       "      <td>3366.0</td>\n",
       "      <td>0.122372</td>\n",
       "      <td>0.036954</td>\n",
       "      <td>0.0542</td>\n",
       "      <td>0.09990</td>\n",
       "      <td>0.1186</td>\n",
       "      <td>0.1479</td>\n",
       "      <td>0.2322</td>\n",
       "    </tr>\n",
       "    <tr>\n",
       "      <th>8</th>\n",
       "      <td>3441.0</td>\n",
       "      <td>0.123002</td>\n",
       "      <td>0.037721</td>\n",
       "      <td>0.0542</td>\n",
       "      <td>0.09990</td>\n",
       "      <td>0.1189</td>\n",
       "      <td>0.1521</td>\n",
       "      <td>0.2359</td>\n",
       "    </tr>\n",
       "    <tr>\n",
       "      <th>9</th>\n",
       "      <td>3536.0</td>\n",
       "      <td>0.120032</td>\n",
       "      <td>0.037281</td>\n",
       "      <td>0.0542</td>\n",
       "      <td>0.08900</td>\n",
       "      <td>0.1183</td>\n",
       "      <td>0.1465</td>\n",
       "      <td>0.2391</td>\n",
       "    </tr>\n",
       "    <tr>\n",
       "      <th>10</th>\n",
       "      <td>3796.0</td>\n",
       "      <td>0.120241</td>\n",
       "      <td>0.039187</td>\n",
       "      <td>0.0542</td>\n",
       "      <td>0.08900</td>\n",
       "      <td>0.1186</td>\n",
       "      <td>0.1461</td>\n",
       "      <td>0.2411</td>\n",
       "    </tr>\n",
       "    <tr>\n",
       "      <th>11</th>\n",
       "      <td>4035.0</td>\n",
       "      <td>0.119417</td>\n",
       "      <td>0.039122</td>\n",
       "      <td>0.0542</td>\n",
       "      <td>0.08900</td>\n",
       "      <td>0.1183</td>\n",
       "      <td>0.1430</td>\n",
       "      <td>0.2391</td>\n",
       "    </tr>\n",
       "    <tr>\n",
       "      <th>12</th>\n",
       "      <td>4314.0</td>\n",
       "      <td>0.123560</td>\n",
       "      <td>0.039340</td>\n",
       "      <td>0.0542</td>\n",
       "      <td>0.09320</td>\n",
       "      <td>0.1242</td>\n",
       "      <td>0.1465</td>\n",
       "      <td>0.2411</td>\n",
       "    </tr>\n",
       "  </tbody>\n",
       "</table>\n",
       "</div>"
      ],
      "text/plain": [
       "              count      mean       std     min      25%     50%     75%  \\\n",
       "issue_month                                                                \n",
       "1            2332.0  0.114619  0.033521  0.0542  0.08940  0.1141  0.1385   \n",
       "2            2279.0  0.117216  0.034649  0.0542  0.09630  0.1111  0.1417   \n",
       "3            2627.0  0.118583  0.034382  0.0542  0.09695  0.1136  0.1422   \n",
       "4            2755.0  0.117409  0.032860  0.0542  0.09880  0.1111  0.1417   \n",
       "5            2911.0  0.122578  0.036565  0.0542  0.09880  0.1199  0.1479   \n",
       "6            3184.0  0.122742  0.038125  0.0542  0.09630  0.1189  0.1484   \n",
       "7            3366.0  0.122372  0.036954  0.0542  0.09990  0.1186  0.1479   \n",
       "8            3441.0  0.123002  0.037721  0.0542  0.09990  0.1189  0.1521   \n",
       "9            3536.0  0.120032  0.037281  0.0542  0.08900  0.1183  0.1465   \n",
       "10           3796.0  0.120241  0.039187  0.0542  0.08900  0.1186  0.1461   \n",
       "11           4035.0  0.119417  0.039122  0.0542  0.08900  0.1183  0.1430   \n",
       "12           4314.0  0.123560  0.039340  0.0542  0.09320  0.1242  0.1465   \n",
       "\n",
       "                max  \n",
       "issue_month          \n",
       "1            0.2086  \n",
       "2            0.2159  \n",
       "3            0.2159  \n",
       "4            0.2159  \n",
       "5            0.2359  \n",
       "6            0.2459  \n",
       "7            0.2322  \n",
       "8            0.2359  \n",
       "9            0.2391  \n",
       "10           0.2411  \n",
       "11           0.2391  \n",
       "12           0.2411  "
      ]
     },
     "execution_count": 132,
     "metadata": {},
     "output_type": "execute_result"
    }
   ],
   "source": [
    "loan.groupby(loan[\"issue_month\"])[\"int_rate\"].describe()"
   ]
  },
  {
   "cell_type": "code",
   "execution_count": 133,
   "id": "d7473980-58fd-42a9-99e5-b7bb6d919d82",
   "metadata": {},
   "outputs": [
    {
     "data": {
      "text/html": [
       "<div>\n",
       "<style scoped>\n",
       "    .dataframe tbody tr th:only-of-type {\n",
       "        vertical-align: middle;\n",
       "    }\n",
       "\n",
       "    .dataframe tbody tr th {\n",
       "        vertical-align: top;\n",
       "    }\n",
       "\n",
       "    .dataframe thead th {\n",
       "        text-align: right;\n",
       "    }\n",
       "</style>\n",
       "<table border=\"1\" class=\"dataframe\">\n",
       "  <thead>\n",
       "    <tr style=\"text-align: right;\">\n",
       "      <th></th>\n",
       "      <th>count</th>\n",
       "      <th>mean</th>\n",
       "      <th>std</th>\n",
       "      <th>min</th>\n",
       "      <th>25%</th>\n",
       "      <th>50%</th>\n",
       "      <th>75%</th>\n",
       "      <th>max</th>\n",
       "    </tr>\n",
       "    <tr>\n",
       "      <th>term</th>\n",
       "      <th></th>\n",
       "      <th></th>\n",
       "      <th></th>\n",
       "      <th></th>\n",
       "      <th></th>\n",
       "      <th></th>\n",
       "      <th></th>\n",
       "      <th></th>\n",
       "    </tr>\n",
       "  </thead>\n",
       "  <tbody>\n",
       "    <tr>\n",
       "      <th>36 months</th>\n",
       "      <td>28237.0</td>\n",
       "      <td>0.110309</td>\n",
       "      <td>0.032229</td>\n",
       "      <td>0.0542</td>\n",
       "      <td>0.0790</td>\n",
       "      <td>0.1099</td>\n",
       "      <td>0.1347</td>\n",
       "      <td>0.2322</td>\n",
       "    </tr>\n",
       "    <tr>\n",
       "      <th>60 months</th>\n",
       "      <td>10339.0</td>\n",
       "      <td>0.148289</td>\n",
       "      <td>0.035506</td>\n",
       "      <td>0.0579</td>\n",
       "      <td>0.1199</td>\n",
       "      <td>0.1483</td>\n",
       "      <td>0.1749</td>\n",
       "      <td>0.2459</td>\n",
       "    </tr>\n",
       "  </tbody>\n",
       "</table>\n",
       "</div>"
      ],
      "text/plain": [
       "             count      mean       std     min     25%     50%     75%     max\n",
       "term                                                                          \n",
       "36 months  28237.0  0.110309  0.032229  0.0542  0.0790  0.1099  0.1347  0.2322\n",
       "60 months  10339.0  0.148289  0.035506  0.0579  0.1199  0.1483  0.1749  0.2459"
      ]
     },
     "execution_count": 133,
     "metadata": {},
     "output_type": "execute_result"
    }
   ],
   "source": [
    "loan.groupby(loan[\"term\"])[\"int_rate\"].describe()"
   ]
  },
  {
   "cell_type": "markdown",
   "id": "d6481253-8410-4c1c-b1f7-cd164fb440dc",
   "metadata": {},
   "source": [
    "#### -->Observation"
   ]
  },
  {
   "cell_type": "markdown",
   "id": "78774cd5-420b-4878-91c5-58ef6e0ac63f",
   "metadata": {},
   "source": [
    " - The maximum intrest rate is 0.245900 and average instrest rate is 0.120488 and the minimum intrest rate is 0.054200.\n",
    " - The hihgest average intrest rate is in december with 0.123560.\n",
    " - The highest average intrest rate is in 60 months term laons with 0.148289."
   ]
  },
  {
   "cell_type": "markdown",
   "id": "03948746-2807-4353-8dfd-a446d2a4c635",
   "metadata": {},
   "source": [
    "### 12. Analysis on total funded and total recieved amount."
   ]
  },
  {
   "cell_type": "code",
   "execution_count": 134,
   "id": "ca6e3afd-8c13-468d-be70-77975e19e6fb",
   "metadata": {},
   "outputs": [
    {
     "data": {
      "text/plain": [
       "435757075"
      ]
     },
     "execution_count": 134,
     "metadata": {},
     "output_type": "execute_result"
    }
   ],
   "source": [
    "loan[\"loan_amount\"].sum()"
   ]
  },
  {
   "cell_type": "code",
   "execution_count": 135,
   "id": "02dc3c09-06f8-49cd-ad16-97e0c59dd645",
   "metadata": {},
   "outputs": [
    {
     "data": {
      "text/plain": [
       "473070933"
      ]
     },
     "execution_count": 135,
     "metadata": {},
     "output_type": "execute_result"
    }
   ],
   "source": [
    "loan[\"total_payment\"].sum()"
   ]
  },
  {
   "cell_type": "markdown",
   "id": "7880445f-0e55-4fa3-8b03-db8fa222b19b",
   "metadata": {},
   "source": [
    "#### -->Observation"
   ]
  },
  {
   "cell_type": "markdown",
   "id": "20c13c85-bd17-4a4f-97fd-c385a622e184",
   "metadata": {},
   "source": [
    " - The total loan amount funded is 435757074.\n",
    " - The total amount recieved from borrowers is 473070933."
   ]
  }
 ],
 "metadata": {
  "kernelspec": {
   "display_name": "Python 3 (ipykernel)",
   "language": "python",
   "name": "python3"
  },
  "language_info": {
   "codemirror_mode": {
    "name": "ipython",
    "version": 3
   },
   "file_extension": ".py",
   "mimetype": "text/x-python",
   "name": "python",
   "nbconvert_exporter": "python",
   "pygments_lexer": "ipython3",
   "version": "3.12.4"
  }
 },
 "nbformat": 4,
 "nbformat_minor": 5
}
